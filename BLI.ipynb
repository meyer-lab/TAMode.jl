{
 "cells": [
  {
   "cell_type": "code",
   "execution_count": 1,
   "metadata": {},
   "outputs": [
    {
     "name": "stderr",
     "output_type": "stream",
     "text": [
      "┌ Info: Precompiling Turing [fce5fe82-541a-59a6-adf8-730c64b5f9a0]\n",
      "└ @ Base loading.jl:1273\n",
      "┌ Info: Precompiling TAMode [294f26d0-a9c2-4f6a-959f-92a060cb6778]\n",
      "└ @ Base loading.jl:1273\n",
      "┌ Info: Precompiling Plots [91a5bcdd-55d7-5caf-9e0b-520d859cae80]\n",
      "└ @ Base loading.jl:1273\n"
     ]
    }
   ],
   "source": [
    "using Pkg\n",
    "using Turing\n",
    "Pkg.instantiate()\n",
    "import TAMode\n",
    "using Plots"
   ]
  },
  {
   "cell_type": "code",
   "execution_count": 4,
   "metadata": {},
   "outputs": [
    {
     "ename": "InterruptException",
     "evalue": "InterruptException:",
     "output_type": "error",
     "traceback": [
      "InterruptException:",
      "",
      "Stacktrace:",
      " [1] top-level scope at In[4]:3"
     ]
    }
   ],
   "source": [
    "cond = \"data/T1-010820.csv\"\n",
    "conc, tps, bindData = TAMode.importData(\"data/T1-010820.csv\")\n",
    "\n",
    "plot(tps, Matrix(bindData), title=cond, label=conc[1:8], lw=3)"
   ]
  },
  {
   "cell_type": "code",
   "execution_count": null,
   "metadata": {},
   "outputs": [],
   "source": [
    "c3 = sample(TAMode.BLI(tps, conc, bindData), HMC(0.1, 10), 100)\n",
    "\n",
    "describe(c3)"
   ]
  },
  {
   "cell_type": "code",
   "execution_count": 2,
   "metadata": {},
   "outputs": [
    {
     "data": {
      "text/plain": [
       "([5.0e-8, 2.5e-8, 1.25e-8, 6.25e-9, 3.13e-9, 1.56e-9, 0.0, 5.0e-8], [222.21, 222.41, 222.61, 222.81, 223.01, 223.21, 223.41, 223.61, 223.81, 224.01  …  1720.22, 1720.42, 1720.62, 1720.82, 1721.02, 1721.22, 1721.42, 1721.62, 1721.82, 1722.02], [0.00552104 -0.00505663 … -8.233e-5 0.00016385; 0.00670767 -0.00457784 … -0.00015478 3.043e-5; … ; 0.04582042 0.03251554 … 0.02523112 0.02575598; 0.04610686 0.03264667 … 0.02489296 0.02503537])"
      ]
     },
     "execution_count": 2,
     "metadata": {},
     "output_type": "execute_result"
    }
   ],
   "source": [
    "conc, tps, bindData = TAMode.importData(\"data/T1-010820.csv\")"
   ]
  },
  {
   "cell_type": "code",
   "execution_count": 5,
   "metadata": {},
   "outputs": [
    {
     "data": {
      "text/plain": [
       "7500-element Array{Float64,1}:\n",
       " 0.00552104\n",
       " 0.00670767\n",
       " 0.00826981\n",
       " 0.00945831\n",
       " 0.01080949\n",
       " 0.01221928\n",
       " 0.01374524\n",
       " 0.01520637\n",
       " 0.01658879\n",
       " 0.01787222\n",
       " 0.01890864\n",
       " 0.01986762\n",
       " 0.02090995\n",
       " ⋮         \n",
       " 0.04595197\n",
       " 0.04578376\n",
       " 0.04588935\n",
       " 0.0458868 \n",
       " 0.04568444\n",
       " 0.04569978\n",
       " 0.04552758\n",
       " 0.0456357 \n",
       " 0.04561294\n",
       " 0.04575586\n",
       " 0.04582042\n",
       " 0.04610686"
      ]
     },
     "execution_count": 5,
     "metadata": {},
     "output_type": "execute_result"
    }
   ],
   "source": [
    "bindData[:,1]"
   ]
  },
  {
   "cell_type": "code",
   "execution_count": null,
   "metadata": {},
   "outputs": [],
   "source": []
  }
 ],
 "metadata": {
  "kernelspec": {
   "display_name": "Julia 1.3.0",
   "language": "julia",
   "name": "julia-1.3"
  },
  "language_info": {
   "file_extension": ".jl",
   "mimetype": "application/julia",
   "name": "julia",
   "version": "1.3.0"
  }
 },
 "nbformat": 4,
 "nbformat_minor": 4
}
