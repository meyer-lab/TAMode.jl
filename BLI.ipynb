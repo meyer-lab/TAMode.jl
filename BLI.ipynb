{
 "cells": [
  {
   "cell_type": "code",
   "execution_count": null,
   "metadata": {},
   "outputs": [],
   "source": [
    "using Pkg\n",
    "Pkg.instantiate()\n",
    "using TAMode\n",
    "using Plots\n",
    "using Turing"
   ]
  },
  {
   "cell_type": "code",
   "execution_count": null,
   "metadata": {},
   "outputs": [],
   "source": [
    "cond = \"data/T1-010820.csv\"\n",
    "conc, tps, bindData = TAMode.importData(cond)"
   ]
  },
  {
   "cell_type": "code",
   "execution_count": null,
   "metadata": {},
   "outputs": [],
   "source": [
    "c3 = sample(TAMode.BLI(tps, conc, Matrix(bindData)), HMC(0.1, 10), 5)\n",
    "\n",
    "describe(c3)"
   ]
  },
  {
   "cell_type": "code",
   "execution_count": 6,
   "metadata": {},
   "outputs": [
    {
     "name": "stdout",
     "output_type": "stream",
     "text": [
      "Object of type Chains, with data of type 5×1×1 Array{Real,3}\n",
      "\n",
      "Iterations        = 1:5\n",
      "Thinning interval = 1\n",
      "Chains            = 1\n",
      "Samples per chain = 5\n",
      "parameters        = Kdis\n",
      "\n",
      "2-element Array{ChainDataFrame,1}\n",
      "\n",
      "Summary Statistics\n",
      "  parameters    mean     std  naive_se     mcse     ess   r_hat\n",
      "  ──────────  ──────  ──────  ────────  ───────  ──────  ──────\n",
      "        Kdis  7.0427  0.0000    0.0000  missing  4.0000  1.0801\n",
      "\n",
      "Quantiles\n",
      "  parameters    2.5%   25.0%   50.0%   75.0%   97.5%\n",
      "  ──────────  ──────  ──────  ──────  ──────  ──────\n",
      "        Kdis  7.0427  7.0427  7.0427  7.0427  7.0427\n",
      "\n"
     ]
    }
   ],
   "source": [
    "println(c3[:,1,:])"
   ]
  },
  {
   "cell_type": "code",
   "execution_count": 7,
   "metadata": {},
   "outputs": [
    {
     "name": "stdout",
     "output_type": "stream",
     "text": [
      "Object of type Chains, with data of type 5×1×1 Array{Real,3}\n",
      "\n",
      "Iterations        = 1:5\n",
      "Thinning interval = 1\n",
      "Chains            = 1\n",
      "Samples per chain = 5\n",
      "parameters        = Kon\n",
      "\n",
      "2-element Array{ChainDataFrame,1}\n",
      "\n",
      "Summary Statistics\n",
      "  parameters      mean     std  naive_se     mcse     ess   r_hat\n",
      "  ──────────  ────────  ──────  ────────  ───────  ──────  ──────\n",
      "         Kon  247.9544  0.0000    0.0000  missing  4.0000  1.0801\n",
      "\n",
      "Quantiles\n",
      "  parameters      2.5%     25.0%     50.0%     75.0%     97.5%\n",
      "  ──────────  ────────  ────────  ────────  ────────  ────────\n",
      "         Kon  247.9544  247.9544  247.9544  247.9544  247.9544\n",
      "\n"
     ]
    }
   ],
   "source": [
    "println(c3[:,2,:])"
   ]
  },
  {
   "cell_type": "code",
   "execution_count": 8,
   "metadata": {},
   "outputs": [
    {
     "name": "stdout",
     "output_type": "stream",
     "text": [
      "Object of type Chains, with data of type 5×1×1 Array{Real,3}\n",
      "\n",
      "Iterations        = 1:5\n",
      "Thinning interval = 1\n",
      "Chains            = 1\n",
      "Samples per chain = 5\n",
      "parameters        = Rmax\n",
      "\n",
      "2-element Array{ChainDataFrame,1}\n",
      "\n",
      "Summary Statistics\n",
      "  parameters    mean     std  naive_se     mcse  ess  r_hat\n",
      "  ──────────  ──────  ──────  ────────  ───────  ───  ─────\n",
      "        Rmax  0.3725  0.0000    0.0000  missing  NaN    NaN\n",
      "\n",
      "Quantiles\n",
      "  parameters    2.5%   25.0%   50.0%   75.0%   97.5%\n",
      "  ──────────  ──────  ──────  ──────  ──────  ──────\n",
      "        Rmax  0.3725  0.3725  0.3725  0.3725  0.3725\n",
      "\n"
     ]
    }
   ],
   "source": [
    "println(c3[:,3,:])"
   ]
  },
  {
   "cell_type": "markdown",
   "metadata": {},
   "source": [
    "### Plotting"
   ]
  },
  {
   "cell_type": "code",
   "execution_count": null,
   "metadata": {},
   "outputs": [],
   "source": [
    "function plotBLI(cond, Kon, Kdis, Rmax, idx)\n",
    "    conc, tps, bindData = TAMode.importData(cond)\n",
    "    theor_bind = TAMode.bindingCalc(tps, Kon, Kdis, Rmax, conc[idx])\n",
    "    values = hcat(bindData[:,idx], theor_bind)\n",
    "    p = plot(tps, values, title=cond, label=[\"Actual\" \"Predicted\"], lw=3)\n",
    "    return p\n",
    "end"
   ]
  },
  {
   "cell_type": "code",
   "execution_count": null,
   "metadata": {},
   "outputs": [],
   "source": [
    "cond = \"data/T1-010820.csv\"\n",
    "Kon = 1.0e4\n",
    "Kdis = 0.001\n",
    "Rmax = 0.3725\n",
    "idx = 1"
   ]
  },
  {
   "cell_type": "code",
   "execution_count": null,
   "metadata": {},
   "outputs": [],
   "source": [
    "p = plotBLI(cond, Kon, Kdis, Rmax, idx)\n",
    "display(p)"
   ]
  },
  {
   "cell_type": "code",
   "execution_count": null,
   "metadata": {},
   "outputs": [],
   "source": []
  }
 ],
 "metadata": {
  "kernelspec": {
   "display_name": "Julia 1.3.0",
   "language": "julia",
   "name": "julia-1.3"
  },
  "language_info": {
   "file_extension": ".jl",
   "mimetype": "application/julia",
   "name": "julia",
   "version": "1.3.0"
  }
 },
 "nbformat": 4,
 "nbformat_minor": 4
}
