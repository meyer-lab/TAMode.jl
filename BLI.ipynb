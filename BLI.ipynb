{
 "cells": [
  {
   "cell_type": "code",
   "execution_count": null,
   "metadata": {},
   "outputs": [],
   "source": [
    "using Pkg\n",
    "Pkg.instantiate()\n",
    "import TAMode\n",
    "using Plots"
   ]
  },
  {
   "cell_type": "code",
   "execution_count": null,
   "metadata": {},
   "outputs": [],
   "source": [
    "function plotBLI(cond)\n",
    "    conc, tps, bindData = TAMode.importData(cond)\n",
    "    bindData = Matrix(bindData)\n",
    "    plot(parse.(tps), parse.(bindData), title=cond, \n",
    "         label=[conc[1] conc[2] conc[3] conc[4] conc[5] conc[6] conc[7] conc[8]], lw=3)\n",
    "end\n",
    "\n",
    "plotBLI(\"data/T1-010820.csv\")"
   ]
  },
  {
   "cell_type": "code",
   "execution_count": null,
   "metadata": {},
   "outputs": [],
   "source": [
    "c3 = sample(TAMode.BLI(\"data/T1-010820.csv\"), MH(), 10)"
   ]
  },
  {
   "cell_type": "code",
   "execution_count": null,
   "metadata": {},
   "outputs": [],
   "source": [
    "conc, tps, measVal = TAMode.importData(\"data/T1-010820.csv\")"
   ]
  }
 ],
 "metadata": {
  "kernelspec": {
   "display_name": "Julia 1.3.0",
   "language": "julia",
   "name": "julia-1.3"
  },
  "language_info": {
   "file_extension": ".jl",
   "mimetype": "application/julia",
   "name": "julia",
   "version": "1.3.0"
  }
 },
 "nbformat": 4,
 "nbformat_minor": 4
}
