{
 "cells": [
  {
   "cell_type": "code",
   "execution_count": 1,
   "metadata": {},
   "outputs": [
    {
     "name": "stderr",
     "output_type": "stream",
     "text": [
      "┌ Info: Precompiling TAMode [294f26d0-a9c2-4f6a-959f-92a060cb6778]\n",
      "└ @ Base loading.jl:1273\n",
      "┌ Warning: Package TAMode does not have Plots in its dependencies:\n",
      "│ - If you have TAMode checked out for development and have\n",
      "│   added Plots as a dependency but haven't updated your primary\n",
      "│   environment's manifest file, try `Pkg.resolve()`.\n",
      "│ - Otherwise you may need to report an issue with TAMode\n",
      "└ Loading Plots into TAMode from project dependency, future warnings for TAMode are suppressed.\n"
     ]
    }
   ],
   "source": [
    "using Pkg\n",
    "using Turing\n",
    "Pkg.instantiate()\n",
    "import TAMode\n",
    "using Plots"
   ]
  },
  {
   "cell_type": "code",
   "execution_count": null,
   "metadata": {},
   "outputs": [],
   "source": [
    "c3 = sample(TAMode.BLI(tps, Array(conc), Matrix(bindData)), HMC(0.1, 10), 25)\n",
    "\n",
    "describe(c3)"
   ]
  },
  {
   "cell_type": "code",
   "execution_count": 7,
   "metadata": {},
   "outputs": [
    {
     "name": "stdout",
     "output_type": "stream",
     "text": [
      "Object of type Chains, with data of type 25×1×1 Array{Real,3}\n",
      "\n",
      "Iterations        = 1:25\n",
      "Thinning interval = 1\n",
      "Chains            = 1\n",
      "Samples per chain = 25\n",
      "parameters        = Kdis\n",
      "\n",
      "2-element Array{ChainDataFrame,1}\n",
      "\n",
      "Summary Statistics\n",
      "\n",
      "│ Row │ parameters │ mean    │ std         │ naive_se    │ mcse    │ ess     │ r_hat │\n",
      "│     │ \u001b[90mSymbol\u001b[39m     │ \u001b[90mFloat64\u001b[39m │ \u001b[90mFloat64\u001b[39m     │ \u001b[90mFloat64\u001b[39m     │ \u001b[90mMissing\u001b[39m │ \u001b[90mAny\u001b[39m     │ \u001b[90mAny\u001b[39m   │\n",
      "├─────┼────────────┼─────────┼─────────────┼─────────────┼─────────┼─────────┼───────┤\n",
      "│ 1   │ Kdis       │ 2.11223 │ 9.06493e-16 │ 1.81299e-16 │ \u001b[90mmissing\u001b[39m │ 2.18182 │ Inf   │\n",
      "\n",
      "Quantiles\n",
      "\n",
      "│ Row │ parameters │ 2.5%    │ 25.0%   │ 50.0%   │ 75.0%   │ 97.5%   │\n",
      "│     │ \u001b[90mSymbol\u001b[39m     │ \u001b[90mFloat64\u001b[39m │ \u001b[90mFloat64\u001b[39m │ \u001b[90mFloat64\u001b[39m │ \u001b[90mFloat64\u001b[39m │ \u001b[90mFloat64\u001b[39m │\n",
      "├─────┼────────────┼─────────┼─────────┼─────────┼─────────┼─────────┤\n",
      "│ 1   │ Kdis       │ 2.11223 │ 2.11223 │ 2.11223 │ 2.11223 │ 2.11223 │\n",
      "\n"
     ]
    }
   ],
   "source": [
    "println(c3[:,1,:])"
   ]
  },
  {
   "cell_type": "code",
   "execution_count": 8,
   "metadata": {},
   "outputs": [
    {
     "name": "stdout",
     "output_type": "stream",
     "text": [
      "Object of type Chains, with data of type 25×1×1 Array{Real,3}\n",
      "\n",
      "Iterations        = 1:25\n",
      "Thinning interval = 1\n",
      "Chains            = 1\n",
      "Samples per chain = 25\n",
      "parameters        = Kon\n",
      "\n",
      "2-element Array{ChainDataFrame,1}\n",
      "\n",
      "Summary Statistics\n",
      "\n",
      "│ Row │ parameters │ mean    │ std         │ naive_se    │ mcse    │ ess     │ r_hat   │\n",
      "│     │ \u001b[90mSymbol\u001b[39m     │ \u001b[90mFloat64\u001b[39m │ \u001b[90mFloat64\u001b[39m     │ \u001b[90mFloat64\u001b[39m     │ \u001b[90mMissing\u001b[39m │ \u001b[90mAny\u001b[39m     │ \u001b[90mAny\u001b[39m     │\n",
      "├─────┼────────────┼─────────┼─────────────┼─────────────┼─────────┼─────────┼─────────┤\n",
      "│ 1   │ Kon        │ 126.439 │ 4.35117e-14 │ 8.70234e-15 │ \u001b[90mmissing\u001b[39m │ 2.18182 │ 4.09349 │\n",
      "\n",
      "Quantiles\n",
      "\n",
      "│ Row │ parameters │ 2.5%    │ 25.0%   │ 50.0%   │ 75.0%   │ 97.5%   │\n",
      "│     │ \u001b[90mSymbol\u001b[39m     │ \u001b[90mFloat64\u001b[39m │ \u001b[90mFloat64\u001b[39m │ \u001b[90mFloat64\u001b[39m │ \u001b[90mFloat64\u001b[39m │ \u001b[90mFloat64\u001b[39m │\n",
      "├─────┼────────────┼─────────┼─────────┼─────────┼─────────┼─────────┤\n",
      "│ 1   │ Kon        │ 126.439 │ 126.439 │ 126.439 │ 126.439 │ 126.439 │\n",
      "\n"
     ]
    }
   ],
   "source": [
    "println(c3[:,2,:])"
   ]
  },
  {
   "cell_type": "code",
   "execution_count": 9,
   "metadata": {},
   "outputs": [
    {
     "name": "stdout",
     "output_type": "stream",
     "text": [
      "Object of type Chains, with data of type 25×1×1 Array{Real,3}\n",
      "\n",
      "Iterations        = 1:25\n",
      "Thinning interval = 1\n",
      "Chains            = 1\n",
      "Samples per chain = 25\n",
      "parameters        = Rmax\n",
      "\n",
      "2-element Array{ChainDataFrame,1}\n",
      "\n",
      "Summary Statistics\n",
      "\n",
      "│ Row │ parameters │ mean     │ std         │ naive_se    │ mcse    │ ess     │ r_hat    │\n",
      "│     │ \u001b[90mSymbol\u001b[39m     │ \u001b[90mFloat64\u001b[39m  │ \u001b[90mFloat64\u001b[39m     │ \u001b[90mFloat64\u001b[39m     │ \u001b[90mMissing\u001b[39m │ \u001b[90mAny\u001b[39m     │ \u001b[90mAny\u001b[39m      │\n",
      "├─────┼────────────┼──────────┼─────────────┼─────────────┼─────────┼─────────┼──────────┤\n",
      "│ 1   │ Rmax       │ 0.358636 │ 5.66558e-17 │ 1.13312e-17 │ \u001b[90mmissing\u001b[39m │ 2.18182 │ 0.957427 │\n",
      "\n",
      "Quantiles\n",
      "\n",
      "│ Row │ parameters │ 2.5%     │ 25.0%    │ 50.0%    │ 75.0%    │ 97.5%    │\n",
      "│     │ \u001b[90mSymbol\u001b[39m     │ \u001b[90mFloat64\u001b[39m  │ \u001b[90mFloat64\u001b[39m  │ \u001b[90mFloat64\u001b[39m  │ \u001b[90mFloat64\u001b[39m  │ \u001b[90mFloat64\u001b[39m  │\n",
      "├─────┼────────────┼──────────┼──────────┼──────────┼──────────┼──────────┤\n",
      "│ 1   │ Rmax       │ 0.358636 │ 0.358636 │ 0.358636 │ 0.358636 │ 0.358636 │\n",
      "\n"
     ]
    }
   ],
   "source": [
    "println(c3[:,3,:])"
   ]
  },
  {
   "cell_type": "code",
   "execution_count": null,
   "metadata": {},
   "outputs": [],
   "source": []
  }
 ],
 "metadata": {
  "kernelspec": {
   "display_name": "Julia 1.3.0",
   "language": "julia",
   "name": "julia-1.3"
  },
  "language_info": {
   "file_extension": ".jl",
   "mimetype": "application/julia",
   "name": "julia",
   "version": "1.3.0"
  }
 },
 "nbformat": 4,
 "nbformat_minor": 4
}
