{
 "cells": [
  {
   "cell_type": "code",
   "execution_count": 1,
   "metadata": {},
   "outputs": [
    {
     "name": "stderr",
     "output_type": "stream",
     "text": [
      "┌ Info: Precompiling TAMode [294f26d0-a9c2-4f6a-959f-92a060cb6778]\n",
      "└ @ Base loading.jl:1273\n",
      "┌ Warning: Package TAMode does not have Statistics in its dependencies:\n",
      "│ - If you have TAMode checked out for development and have\n",
      "│   added Statistics as a dependency but haven't updated your primary\n",
      "│   environment's manifest file, try `Pkg.resolve()`.\n",
      "│ - Otherwise you may need to report an issue with TAMode\n",
      "└ Loading Statistics into TAMode from project dependency, future warnings for TAMode are suppressed.\n"
     ]
    }
   ],
   "source": [
    "using Pkg\n",
    "using Turing\n",
    "Pkg.instantiate()\n",
    "import TAMode\n",
    "using Plots"
   ]
  },
  {
   "cell_type": "code",
   "execution_count": null,
   "metadata": {},
   "outputs": [],
   "source": [
    "function plotBLI(cond)\n",
    "    conc, tps, bindData = TAMode.importData(cond)\n",
    "    bindData = Matrix(bindData)\n",
    "    plot(parse.(tps), parse.(bindData), title=cond, \n",
    "         label=[conc[1] conc[2] conc[3] conc[4] conc[5] conc[6] conc[7] conc[8]], lw=3)\n",
    "end\n",
    "\n",
    "plotBLI(\"data/T1-010820.csv\")"
   ]
  },
  {
   "cell_type": "code",
   "execution_count": 2,
   "metadata": {},
   "outputs": [
    {
     "data": {
      "text/plain": [
       "([5.0e-8, 2.5e-8, 1.25e-8, 6.25e-9, 3.13e-9, 1.56e-9, 0.0, 5.0e-8], [222.21, 222.41, 222.61, 222.81, 223.01, 223.21, 223.41, 223.61, 223.81, 224.01  …  1720.22, 1720.42, 1720.62, 1720.82, 1721.02, 1721.22, 1721.42, 1721.62, 1721.82, 1722.02], [0.00552104 -0.00505663 … -8.233e-5 0.00016385; 0.00670767 -0.00457784 … -0.00015478 3.043e-5; … ; 0.04582042 0.03251554 … 0.02523112 0.02575598; 0.04610686 0.03264667 … 0.02489296 0.02503537])"
      ]
     },
     "execution_count": 2,
     "metadata": {},
     "output_type": "execute_result"
    }
   ],
   "source": [
    "conc, tps, bindData = TAMode.importData(\"data/T1-010820.csv\")"
   ]
  },
  {
   "cell_type": "code",
   "execution_count": 5,
   "metadata": {},
   "outputs": [
    {
     "name": "stderr",
     "output_type": "stream",
     "text": [
      "\u001b[32mProgress: 100%|█████████████████████████████████████████| Time: 0:00:02\u001b[39m\n"
     ]
    },
    {
     "data": {
      "text/plain": [
       "Object of type Chains, with data of type 1000×4×1 Array{Float64,3}\n",
       "\n",
       "Iterations        = 1:1000\n",
       "Thinning interval = 1\n",
       "Chains            = 1\n",
       "Samples per chain = 1000\n",
       "internals         = lp\n",
       "parameters        = Kdis, Kon, residual\n",
       "\n",
       "2-element Array{ChainDataFrame,1}\n",
       "\n",
       "Summary Statistics\n",
       ". Omitted printing of 1 columns\n",
       "│ Row │ parameters │ mean      │ std      │ naive_se  │ mcse      │ ess     │\n",
       "│     │ \u001b[90mSymbol\u001b[39m     │ \u001b[90mFloat64\u001b[39m   │ \u001b[90mFloat64\u001b[39m  │ \u001b[90mFloat64\u001b[39m   │ \u001b[90mFloat64\u001b[39m   │ \u001b[90mAny\u001b[39m     │\n",
       "├─────┼────────────┼───────────┼──────────┼───────────┼───────────┼─────────┤\n",
       "│ 1   │ Kdis       │ 2.03626   │ 0.977693 │ 0.0309174 │ 0.0186574 │ 1139.43 │\n",
       "│ 2   │ Kon        │ 6.00939   │ 0.500621 │ 0.015831  │ 0.018994  │ 1086.26 │\n",
       "│ 3   │ residual   │ 0.0196177 │ 1.02963  │ 0.0325597 │ 0.0489615 │ 704.162 │\n",
       "\n",
       "Quantiles\n",
       "\n",
       "│ Row │ parameters │ 2.5%       │ 25.0%     │ 50.0%     │ 75.0%    │ 97.5%   │\n",
       "│     │ \u001b[90mSymbol\u001b[39m     │ \u001b[90mFloat64\u001b[39m    │ \u001b[90mFloat64\u001b[39m   │ \u001b[90mFloat64\u001b[39m   │ \u001b[90mFloat64\u001b[39m  │ \u001b[90mFloat64\u001b[39m │\n",
       "├─────┼────────────┼────────────┼───────────┼───────────┼──────────┼─────────┤\n",
       "│ 1   │ Kdis       │ -0.0661365 │ 1.3926    │ 2.00939   │ 2.67877  │ 3.96243 │\n",
       "│ 2   │ Kon        │ 5.03549    │ 5.65402   │ 6.00078   │ 6.36112  │ 6.99535 │\n",
       "│ 3   │ residual   │ -1.8596    │ -0.671038 │ 0.0052217 │ 0.664721 │ 2.05414 │\n"
      ]
     },
     "execution_count": 5,
     "metadata": {},
     "output_type": "execute_result"
    }
   ],
   "source": [
    "c3 = sample(TAMode.BLI(tps, conc, bindData), MH(), 1000)"
   ]
  },
  {
   "cell_type": "code",
   "execution_count": null,
   "metadata": {},
   "outputs": [],
   "source": [
    "conc1 = parse.(Float64,Matrix(bindData))"
   ]
  },
  {
   "cell_type": "code",
   "execution_count": 4,
   "metadata": {},
   "outputs": [
    {
     "data": {
      "text/plain": [
       "4500-element Array{Float64,1}:\n",
       "   0.11000000000001364\n",
       "   0.30999999999994543\n",
       "   0.5099999999999909 \n",
       "   0.7100000000000364 \n",
       "   0.9099999999999682 \n",
       "   1.1100000000000136 \n",
       "   1.3099999999999454 \n",
       "   1.509999999999991  \n",
       "   1.7100000000000364 \n",
       "   1.9099999999999682 \n",
       "   2.1100000000000136 \n",
       "   2.3099999999999454 \n",
       "   2.509999999999991  \n",
       "   ⋮                  \n",
       " 897.7099999999999    \n",
       " 897.91               \n",
       " 898.11               \n",
       " 898.3100000000001    \n",
       " 898.5099999999999    \n",
       " 898.7099999999999    \n",
       " 898.91               \n",
       " 899.11               \n",
       " 899.3100000000001    \n",
       " 899.5099999999999    \n",
       " 899.7099999999999    \n",
       " 899.91               "
      ]
     },
     "execution_count": 4,
     "metadata": {},
     "output_type": "execute_result"
    }
   ],
   "source": [
    "Tshift = tps[1] + 599.9\n",
    "tBind = tps[tps.<Tshift].-tps[1]\n",
    "tUnbind = tps[tps .> Tshift] .- Tshift"
   ]
  },
  {
   "cell_type": "code",
   "execution_count": 5,
   "metadata": {},
   "outputs": [
    {
     "data": {
      "text/plain": [
       "3001-element Array{Float64,1}:\n",
       "   0.0                \n",
       "   0.19999999999998863\n",
       "   0.4000000000000057 \n",
       "   0.5999999999999943 \n",
       "   0.799999999999983  \n",
       "   1.0                \n",
       "   1.1999999999999886 \n",
       "   1.4000000000000057 \n",
       "   1.5999999999999943 \n",
       "   1.799999999999983  \n",
       "   2.0                \n",
       "   2.1999999999999886 \n",
       "   2.4000000000000057 \n",
       "   ⋮                  \n",
       " 597.8                \n",
       " 598.0                \n",
       " 598.1999999999999    \n",
       " 598.4                \n",
       " 598.5999999999999    \n",
       " 598.8                \n",
       " 599.0                \n",
       " 599.1999999999999    \n",
       " 599.4                \n",
       " 599.5999999999999    \n",
       " 599.8                \n",
       " 600.01               "
      ]
     },
     "execution_count": 5,
     "metadata": {},
     "output_type": "execute_result"
    }
   ],
   "source": [
    "tBind"
   ]
  },
  {
   "cell_type": "code",
   "execution_count": null,
   "metadata": {},
   "outputs": [],
   "source": []
  }
 ],
 "metadata": {
  "kernelspec": {
   "display_name": "Julia 1.3.0",
   "language": "julia",
   "name": "julia-1.3"
  },
  "language_info": {
   "file_extension": ".jl",
   "mimetype": "application/julia",
   "name": "julia",
   "version": "1.3.0"
  }
 },
 "nbformat": 4,
 "nbformat_minor": 4
}
