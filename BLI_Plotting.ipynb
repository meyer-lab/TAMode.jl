{
 "cells": [
  {
   "cell_type": "code",
   "execution_count": null,
   "metadata": {},
   "outputs": [
    {
     "name": "stderr",
     "output_type": "stream",
     "text": [
      "┌ Info: Precompiling TAMode [294f26d0-a9c2-4f6a-959f-92a060cb6778]\n",
      "└ @ Base loading.jl:1273\n"
     ]
    }
   ],
   "source": [
    "using Pkg\n",
    "Pkg.instantiate()\n",
    "using TAMode\n",
    "using Plots"
   ]
  },
  {
   "cell_type": "code",
   "execution_count": null,
   "metadata": {},
   "outputs": [],
   "source": [
    "function plotBLI(cond, Kon, Kdis, Rmax, idx)\n",
    "    conc, tps, bindData = TAMode.importData(cond)\n",
    "    theor_bind = TAMode.bindingCalc(tps, Kon, Kdis, Rmax)\n",
    "    values = hcat(bindData[:,idx], theor_bind)\n",
    "    p = plot(tps, values, title=cond, label=[\"Actual\" \"Predicted\"], lw=3)\n",
    "    return p\n",
    "end"
   ]
  },
  {
   "cell_type": "code",
   "execution_count": null,
   "metadata": {},
   "outputs": [],
   "source": [
    "cond = \"data/T1-010820.csv\"\n",
    "Kon = 1.0e4\n",
    "Kdis = 0.001\n",
    "Rmax = 0.358636\n",
    "idx = 1"
   ]
  },
  {
   "cell_type": "code",
   "execution_count": null,
   "metadata": {},
   "outputs": [],
   "source": [
    "p = plotBLI(cond, Kon, Kdis, Rmax, idx)\n",
    "display(p)"
   ]
  }
 ],
 "metadata": {
  "kernelspec": {
   "display_name": "Julia 1.3.1",
   "language": "julia",
   "name": "julia-1.3"
  },
  "language_info": {
   "file_extension": ".jl",
   "mimetype": "application/julia",
   "name": "julia",
   "version": "1.3.1"
  }
 },
 "nbformat": 4,
 "nbformat_minor": 4
}
