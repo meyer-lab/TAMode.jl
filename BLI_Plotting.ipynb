{
 "cells": [
  {
   "cell_type": "code",
   "execution_count": 5,
   "metadata": {},
   "outputs": [
    {
     "name": "stderr",
     "output_type": "stream",
     "text": [
      "┌ Info: Precompiling TAMode [294f26d0-a9c2-4f6a-959f-92a060cb6778]\n",
      "└ @ Base loading.jl:1273\n",
      "ERROR: LoadError: ArgumentError: Package TAMode does not have Plots in its dependencies:\n",
      "- If you have TAMode checked out for development and have\n",
      "  added Plots as a dependency but haven't updated your primary\n",
      "  environment's manifest file, try `Pkg.resolve()`.\n",
      "- Otherwise you may need to report an issue with TAMode\n",
      "Stacktrace:\n",
      " [1] require(::Module, ::Symbol) at ./loading.jl:900\n",
      " [2] include at ./boot.jl:328 [inlined]\n",
      " [3] include_relative(::Module, ::String) at ./loading.jl:1105\n",
      " [4] include(::Module, ::String) at ./Base.jl:31\n",
      " [5] top-level scope at none:2\n",
      " [6] eval at ./boot.jl:330 [inlined]\n",
      " [7] eval(::Expr) at ./client.jl:425\n",
      " [8] top-level scope at ./none:3\n",
      "in expression starting at /Users/asm/Code/TAMode.jl/src/TAMode.jl:11\n"
     ]
    },
    {
     "ename": "ErrorException",
     "evalue": "Failed to precompile TAMode [294f26d0-a9c2-4f6a-959f-92a060cb6778] to /Users/asm/.julia/compiled/v1.3/TAMode/03HP8_vt7y5.ji.",
     "output_type": "error",
     "traceback": [
      "Failed to precompile TAMode [294f26d0-a9c2-4f6a-959f-92a060cb6778] to /Users/asm/.julia/compiled/v1.3/TAMode/03HP8_vt7y5.ji.",
      "",
      "Stacktrace:",
      " [1] error(::String) at ./error.jl:33",
      " [2] compilecache(::Base.PkgId, ::String) at ./loading.jl:1283",
      " [3] _require(::Base.PkgId) at ./loading.jl:1024",
      " [4] require(::Base.PkgId) at ./loading.jl:922",
      " [5] require(::Module, ::Symbol) at ./loading.jl:917",
      " [6] top-level scope at In[5]:3"
     ]
    }
   ],
   "source": [
    "using Pkg\n",
    "Pkg.instantiate()\n",
    "import TAMode\n",
    "using Plots"
   ]
  },
  {
   "cell_type": "code",
   "execution_count": null,
   "metadata": {},
   "outputs": [],
   "source": [
    "function plotBLI(cond, Kon, Kdis, Rmax, idx)\n",
    "    conc, tps, bindData = TAMode.importData(cond)\n",
    "    theor_bind = TAMode.bindingCalc(tps, Kon, Kdis, Rmax)\n",
    "    values = hcat(bindData[:,idx], theor_bind)\n",
    "    p = plot(tps, values, title=cond, label=[\"Actual\" \"Predicted\"], lw=3)\n",
    "    return p\n",
    "end"
   ]
  },
  {
   "cell_type": "code",
   "execution_count": 6,
   "metadata": {},
   "outputs": [
    {
     "data": {
      "text/plain": [
       "1"
      ]
     },
     "execution_count": 6,
     "metadata": {},
     "output_type": "execute_result"
    }
   ],
   "source": [
    "cond = \"data/T1-010820.csv\"\n",
    "Kon = 1.0e4\n",
    "Kdis = 0.001\n",
    "Rmax = 0.358636\n",
    "idx = 1"
   ]
  },
  {
   "cell_type": "code",
   "execution_count": 7,
   "metadata": {},
   "outputs": [
    {
     "ename": "UndefVarError",
     "evalue": "UndefVarError: TAMode not defined",
     "output_type": "error",
     "traceback": [
      "UndefVarError: TAMode not defined",
      "",
      "Stacktrace:",
      " [1] top-level scope at In[7]:1"
     ]
    }
   ],
   "source": [
    "p = TAMode.plotBLI(cond, Kon, Kdis, Rmax, idx)\n",
    "display(p)"
   ]
  },
  {
   "cell_type": "markdown",
   "metadata": {},
   "source": [
    "To plot all the experiments convert following block to code and run"
   ]
  },
  {
   "cell_type": "markdown",
   "metadata": {},
   "source": [
    "conditions = [\"data/T1-010820.csv\" \"data/T2-010820.csv\" \"data/TFL-010820.csv\" \n",
    "    \"data/T1-011520.csv\" \"data/T2-011520.csv\" \"data/TFL-011520.csv\" \n",
    "    \"data/M1-011520.csv\" \"data/M2-011520.csv\" \"data/MFL-011520.csv\"]\n",
    "\n",
    "for cond in conditions\n",
    "    conc, tps, bindData = TAMode.importData(cond)\n",
    "\n",
    "    p = plot(tps, Matrix(bindData), title=cond, label=[conc[1] conc[2] conc[3] conc[4] conc[5] conc[6] conc[7] conc[8]], lw=3)\n",
    "    savefig(p, string(cond,\".png\"))\n",
    "    display(p)\n",
    "end"
   ]
  }
 ],
 "metadata": {
  "kernelspec": {
   "display_name": "Julia 1.3.1",
   "language": "julia",
   "name": "julia-1.3"
  },
  "language_info": {
   "file_extension": ".jl",
   "mimetype": "application/julia",
   "name": "julia",
   "version": "1.3.1"
  }
 },
 "nbformat": 4,
 "nbformat_minor": 4
}
