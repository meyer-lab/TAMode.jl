{
 "cells": [
  {
   "cell_type": "code",
   "execution_count": null,
   "metadata": {},
   "outputs": [],
   "source": [
    "using Pkg\n",
    "using TAMode\n",
    "using Plots"
   ]
  },
  {
   "cell_type": "code",
   "execution_count": null,
   "metadata": {},
   "outputs": [],
   "source": [
    "function plotBLI(cond, Kon, Kdis, Rmax, idx)\n",
    "    conc, tps, bindData = TAMode.importData(cond)\n",
    "    theor_bind = TAMode.bindingCalc(tps, Kon, Kdis, Rmax)\n",
    "    values = hcat(bindData[:,idx], theor_bind)\n",
    "    p = plot(tps, values, title=cond, label=[\"Actual\" \"Predicted\"], lw=3)\n",
    "    return p\n",
    "end"
   ]
  },
  {
   "cell_type": "code",
   "execution_count": null,
   "metadata": {},
   "outputs": [],
   "source": [
    "cond = \"data/T1-010820.csv\"\n",
    "Kon = 1.0e4\n",
    "Kdis = 0.001\n",
    "Rmax = 0.358636\n",
    "idx = 1"
   ]
  },
  {
   "cell_type": "code",
   "execution_count": null,
   "metadata": {},
   "outputs": [],
   "source": [
    "p = plotBLI(cond, Kon, Kdis, Rmax, idx)\n",
    "display(p)"
   ]
  },
  {
   "cell_type": "markdown",
   "metadata": {},
   "source": [
    "To plot all the experiments convert following block to code and run"
   ]
  },
  {
   "cell_type": "markdown",
   "metadata": {},
   "source": [
    "conditions = [\"data/T1-010820.csv\" \"data/T2-010820.csv\" \"data/TFL-010820.csv\" \n",
    "    \"data/T1-011520.csv\" \"data/T2-011520.csv\" \"data/TFL-011520.csv\" \n",
    "    \"data/M1-011520.csv\" \"data/M2-011520.csv\" \"data/MFL-011520.csv\"]\n",
    "\n",
    "for cond in conditions\n",
    "    conc, tps, bindData = TAMode.importData(cond)\n",
    "\n",
    "    p = plot(tps, Matrix(bindData), title=cond, label=[conc[1] conc[2] conc[3] conc[4] conc[5] conc[6] conc[7] conc[8]], lw=3)\n",
    "    savefig(p, string(cond,\".png\"))\n",
    "    display(p)\n",
    "end"
   ]
  }
 ],
 "metadata": {
  "kernelspec": {
   "display_name": "Julia 1.3.1",
   "language": "julia",
   "name": "julia-1.3"
  },
  "language_info": {
   "file_extension": ".jl",
   "mimetype": "application/julia",
   "name": "julia",
   "version": "1.3.1"
  }
 },
 "nbformat": 4,
 "nbformat_minor": 4
}
