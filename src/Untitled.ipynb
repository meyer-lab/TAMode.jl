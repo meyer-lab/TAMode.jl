{
 "cells": [
  {
   "cell_type": "code",
   "execution_count": null,
   "metadata": {},
   "outputs": [],
   "source": [
    "using Pkg\n",
    "using CSV\n",
    "using DataFrames\n",
    "using Turing\n",
    "using Plots\n",
    "Pkg.instantiate()\n",
    "import TAMode"
   ]
  },
  {
   "cell_type": "code",
   "execution_count": 6,
   "metadata": {},
   "outputs": [
    {
     "ename": "UndefVarError",
     "evalue": "UndefVarError: plotBLI not defined",
     "output_type": "error",
     "traceback": [
      "UndefVarError: plotBLI not defined",
      "",
      "Stacktrace:",
      " [1] getproperty(::Module, ::Symbol) at ./Base.jl:13",
      " [2] top-level scope at In[6]:1"
     ]
    }
   ],
   "source": [
    "TAMode.plotBLI(\"data/T1-010820.csv\")"
   ]
  },
  {
   "cell_type": "code",
   "execution_count": 2,
   "metadata": {},
   "outputs": [
    {
     "ename": "DimensionMismatch",
     "evalue": "DimensionMismatch(\"arrays could not be broadcast to a common size; got a dimension with lengths 60000 and 59992\")",
     "output_type": "error",
     "traceback": [
      "DimensionMismatch(\"arrays could not be broadcast to a common size; got a dimension with lengths 60000 and 59992\")",
      "",
      "Stacktrace:",
      " [1] materialize(::Base.Broadcast.Broadcasted{Base.Broadcast.DefaultArrayStyle{1},Nothing,typeof(-),Tuple{Array{Float64,1},Array{Float64,1}}}) at ./broadcast.jl:490",
      " [2] macro expansion at /home/micahb/TAMode.jl/src/BLI_Analysis.jl:61 [inlined]",
      " [3] (::TAMode.var\"##inner_function#406#2\")(::DynamicPPL.VarInfo{DynamicPPL.Metadata{Dict{DynamicPPL.VarName,Int64},Array{Distribution,1},Array{DynamicPPL.VarName,1},Array{Real,1},Array{Set{DynamicPPL.Selector},1}},Real}, ::DynamicPPL.SampleFromPrior, ::DynamicPPL.DefaultContext, ::DynamicPPL.Model{TAMode.var\"##inner_function#406#2\",NamedTuple{(:cond,),Tuple{String}},DynamicPPL.ModelGen{(:cond,),TAMode.var\"###BLI#426\",NamedTuple{(),Tuple{}}},Val{()}}) at /home/micahb/.julia/packages/DynamicPPL/nsoCZ/src/compiler.jl:591",
      " [4] #_#3 at /home/micahb/.julia/packages/DynamicPPL/nsoCZ/src/model.jl:24 [inlined]",
      " [5] Model at /home/micahb/.julia/packages/DynamicPPL/nsoCZ/src/model.jl:24 [inlined]",
      " [6] VarInfo at /home/micahb/.julia/packages/DynamicPPL/nsoCZ/src/varinfo.jl:138 [inlined]",
      " [7] VarInfo at /home/micahb/.julia/packages/DynamicPPL/nsoCZ/src/varinfo.jl:137 [inlined]",
      " [8] Turing.Inference.MHState(::DynamicPPL.Model{TAMode.var\"##inner_function#406#2\",NamedTuple{(:cond,),Tuple{String}},DynamicPPL.ModelGen{(:cond,),TAMode.var\"###BLI#426\",NamedTuple{(),Tuple{}}},Val{()}}) at /home/micahb/.julia/packages/Turing/vg86q/src/inference/mh.jl:8",
      " [9] DynamicPPL.Sampler(::MH{()}, ::DynamicPPL.Model{TAMode.var\"##inner_function#406#2\",NamedTuple{(:cond,),Tuple{String}},DynamicPPL.ModelGen{(:cond,),TAMode.var\"###BLI#426\",NamedTuple{(),Tuple{}}},Val{()}}, ::DynamicPPL.Selector) at /home/micahb/.julia/packages/Turing/vg86q/src/inference/mh.jl:65",
      " [10] #sample#2(::Nothing, ::Base.Iterators.Pairs{Union{},Union{},Tuple{},NamedTuple{(),Tuple{}}}, ::typeof(sample), ::DynamicPPL.Model{TAMode.var\"##inner_function#406#2\",NamedTuple{(:cond,),Tuple{String}},DynamicPPL.ModelGen{(:cond,),TAMode.var\"###BLI#426\",NamedTuple{(),Tuple{}}},Val{()}}, ::MH{()}, ::Int64) at /home/micahb/.julia/packages/DynamicPPL/nsoCZ/src/sampler.jl:44",
      " [11] sample(::DynamicPPL.Model{TAMode.var\"##inner_function#406#2\",NamedTuple{(:cond,),Tuple{String}},DynamicPPL.ModelGen{(:cond,),TAMode.var\"###BLI#426\",NamedTuple{(),Tuple{}}},Val{()}}, ::MH{()}, ::Int64) at /home/micahb/.julia/packages/Turing/vg86q/src/inference/Inference.jl:158",
      " [12] top-level scope at In[2]:1"
     ]
    }
   ],
   "source": [
    "c3 = sample(TAMode.BLI(\"data/T1-010820.csv\"), MH(), 10)"
   ]
  },
  {
   "cell_type": "code",
   "execution_count": 4,
   "metadata": {},
   "outputs": [
    {
     "name": "stdout",
     "output_type": "stream",
     "text": [
      "\u001b[32m\u001b[1m Resolving\u001b[22m\u001b[39m package versions...\n",
      "\u001b[32m\u001b[1m Installed\u001b[22m\u001b[39m Interpolations ─ v0.12.7\n",
      "\u001b[32m\u001b[1m  Updating\u001b[22m\u001b[39m `~/TAMode.jl/Project.toml`\n",
      " \u001b[90m [fce5fe82]\u001b[39m\u001b[92m + Turing v0.8.3\u001b[39m\n",
      "\u001b[32m\u001b[1m  Updating\u001b[22m\u001b[39m `~/TAMode.jl/Manifest.toml`\n",
      " \u001b[90m [621f4979]\u001b[39m\u001b[92m + AbstractFFTs v0.5.0\u001b[39m\n",
      " \u001b[90m [80f14c24]\u001b[39m\u001b[92m + AbstractMCMC v0.1.0\u001b[39m\n",
      " \u001b[90m [0bf59076]\u001b[39m\u001b[92m + AdvancedHMC v0.2.20\u001b[39m\n",
      " \u001b[90m [dce04be8]\u001b[39m\u001b[92m + ArgCheck v1.0.1\u001b[39m\n",
      " \u001b[90m [7d9fca2a]\u001b[39m\u001b[92m + Arpack v0.3.2\u001b[39m\n",
      " \u001b[90m [4c555306]\u001b[39m\u001b[92m + ArrayLayouts v0.1.5\u001b[39m\n",
      " \u001b[90m [13072b0f]\u001b[39m\u001b[92m + AxisAlgorithms v1.0.0\u001b[39m\n",
      " \u001b[90m [39de3d68]\u001b[39m\u001b[92m + AxisArrays v0.4.1\u001b[39m\n",
      " \u001b[90m [6e4b80f9]\u001b[39m\u001b[92m + BenchmarkTools v0.4.3\u001b[39m\n",
      " \u001b[90m [76274a88]\u001b[39m\u001b[92m + Bijectors v0.5.2\u001b[39m\n",
      " \u001b[90m [9e28174c]\u001b[39m\u001b[92m + BinDeps v1.0.0\u001b[39m\n",
      " \u001b[90m [b99e7846]\u001b[39m\u001b[92m + BinaryProvider v0.5.8\u001b[39m\n",
      " \u001b[90m [324d7699]\u001b[39m\u001b[92m + CategoricalArrays v0.7.7\u001b[39m\n",
      " \u001b[90m [861a8166]\u001b[39m\u001b[92m + Combinatorics v0.7.0\u001b[39m\n",
      " \u001b[90m [8f4d0f93]\u001b[39m\u001b[92m + Conda v1.3.0\u001b[39m\n",
      " \u001b[90m [9a962f9c]\u001b[39m\u001b[92m + DataAPI v1.1.0\u001b[39m\n",
      " \u001b[90m [a93c6f00]\u001b[39m\u001b[92m + DataFrames v0.20.0\u001b[39m\n",
      " \u001b[90m [e2d170a0]\u001b[39m\u001b[92m + DataValueInterfaces v1.0.0\u001b[39m\n",
      " \u001b[90m [01453d9d]\u001b[39m\u001b[91m - DiffEqDiffTools v1.7.0\u001b[39m\n",
      " \u001b[90m [31c24e10]\u001b[39m\u001b[92m + Distributions v0.22.3\u001b[39m\n",
      " \u001b[90m [ced4e74d]\u001b[39m\u001b[92m + DistributionsAD v0.2.0\u001b[39m\n",
      " \u001b[90m [366bfd00]\u001b[39m\u001b[92m + DynamicPPL v0.1.1\u001b[39m\n",
      " \u001b[90m [7a1cc6ca]\u001b[39m\u001b[92m + FFTW v1.1.0\u001b[39m\n",
      " \u001b[90m [1a297f60]\u001b[39m\u001b[92m + FillArrays v0.8.4\u001b[39m\n",
      " \u001b[90m [6a86dc24]\u001b[39m\u001b[93m ↑ FiniteDiff v2.0.0 ⇒ v2.0.1\u001b[39m\n",
      " \u001b[90m [7869d1d1]\u001b[39m\u001b[92m + IRTools v0.3.0\u001b[39m\n",
      " \u001b[90m [505f98c9]\u001b[39m\u001b[92m + InplaceOps v0.3.0\u001b[39m\n",
      " \u001b[90m [a98d9a8b]\u001b[39m\u001b[92m + Interpolations v0.12.7\u001b[39m\n",
      " \u001b[90m [8197267c]\u001b[39m\u001b[92m + IntervalSets v0.3.2\u001b[39m\n",
      " \u001b[90m [41ab1584]\u001b[39m\u001b[92m + InvertedIndices v1.0.0\u001b[39m\n",
      " \u001b[90m [c8e1da08]\u001b[39m\u001b[92m + IterTools v1.3.0\u001b[39m\n",
      " \u001b[90m [682c06a0]\u001b[39m\u001b[92m + JSON v0.21.0\u001b[39m\n",
      " \u001b[90m [5ab0869b]\u001b[39m\u001b[92m + KernelDensity v0.5.1\u001b[39m\n",
      " \u001b[90m [5078a376]\u001b[39m\u001b[92m + LazyArrays v0.14.11\u001b[39m\n",
      " \u001b[90m [6f1fad26]\u001b[39m\u001b[92m + Libtask v0.3.1\u001b[39m\n",
      " \u001b[90m [6fdf6af0]\u001b[39m\u001b[92m + LogDensityProblems v0.10.1\u001b[39m\n",
      " \u001b[90m [c7f686f2]\u001b[39m\u001b[92m + MCMCChains v1.0.1\u001b[39m\n",
      " \u001b[90m [dbb5928d]\u001b[39m\u001b[92m + MappedArrays v0.2.2\u001b[39m\n",
      " \u001b[90m [e1d29d7a]\u001b[39m\u001b[92m + Missings v0.4.3\u001b[39m\n",
      " \u001b[90m [2774e3e8]\u001b[39m\u001b[93m ↑ NLsolve v4.2.0 ⇒ v4.3.0\u001b[39m\n",
      " \u001b[90m [872c559c]\u001b[39m\u001b[92m + NNlib v0.6.4\u001b[39m\n",
      " \u001b[90m [6fe1bfb0]\u001b[39m\u001b[92m + OffsetArrays v1.0.2\u001b[39m\n",
      " \u001b[90m [efe28fd5]\u001b[39m\u001b[91m - OpenSpecFun_jll v0.5.3+1\u001b[39m\n",
      " \u001b[90m [429524aa]\u001b[39m\u001b[92m + Optim v0.20.0\u001b[39m\n",
      " \u001b[90m [90014a1f]\u001b[39m\u001b[92m + PDMats v0.9.11\u001b[39m\n",
      " \u001b[90m [69de0a69]\u001b[39m\u001b[92m + Parsers v0.3.10\u001b[39m\n",
      " \u001b[90m [f27b6e38]\u001b[39m\u001b[92m + Polynomials v0.6.0\u001b[39m\n",
      " \u001b[90m [2dfb63ee]\u001b[39m\u001b[92m + PooledArrays v0.5.3\u001b[39m\n",
      " \u001b[90m [85a6dd25]\u001b[39m\u001b[92m + PositiveFactorizations v0.2.3\u001b[39m\n",
      " \u001b[90m [92933f4c]\u001b[39m\u001b[92m + ProgressMeter v1.2.0\u001b[39m\n",
      " \u001b[90m [1fd47b50]\u001b[39m\u001b[92m + QuadGK v2.3.1\u001b[39m\n",
      " \u001b[90m [b3c3ace0]\u001b[39m\u001b[92m + RangeArrays v0.3.2\u001b[39m\n",
      " \u001b[90m [c84ed2f1]\u001b[39m\u001b[92m + Ratios v0.3.1\u001b[39m\n",
      " \u001b[90m [731186ca]\u001b[39m\u001b[93m ↑ RecursiveArrayTools v2.0.2 ⇒ v2.0.4\u001b[39m\n",
      " \u001b[90m [79098fc4]\u001b[39m\u001b[92m + Rmath v0.6.0\u001b[39m\n",
      " \u001b[90m [992d4aef]\u001b[39m\u001b[92m + Showoff v0.3.1\u001b[39m\n",
      " \u001b[90m [a2af1166]\u001b[39m\u001b[92m + SortingAlgorithms v0.3.1\u001b[39m\n",
      " \u001b[90m [47a9eef4]\u001b[39m\u001b[93m ↑ SparseDiffTools v1.2.0 ⇒ v1.3.3\u001b[39m\n",
      " \u001b[90m [276daf66]\u001b[39m\u001b[95m ↓ SpecialFunctions v0.9.0 ⇒ v0.8.0\u001b[39m\n",
      " \u001b[90m [2913bbd2]\u001b[39m\u001b[92m + StatsBase v0.32.0\u001b[39m\n",
      " \u001b[90m [4c63d2b9]\u001b[39m\u001b[92m + StatsFuns v0.9.3\u001b[39m\n",
      " \u001b[90m [bd369af6]\u001b[39m\u001b[92m + Tables v0.2.11\u001b[39m\n",
      " \u001b[90m [9f7883ad]\u001b[39m\u001b[92m + Tracker v0.2.6\u001b[39m\n",
      " \u001b[90m [84d833dd]\u001b[39m\u001b[92m + TransformVariables v0.3.9\u001b[39m\n",
      " \u001b[90m [fce5fe82]\u001b[39m\u001b[92m + Turing v0.8.3\u001b[39m\n",
      " \u001b[90m [30578b45]\u001b[39m\u001b[92m + URIParser v0.4.0\u001b[39m\n",
      " \u001b[90m [81def892]\u001b[39m\u001b[92m + VersionParsing v1.2.0\u001b[39m\n",
      " \u001b[90m [efce3f68]\u001b[39m\u001b[92m + WoodburyMatrices v0.5.0\u001b[39m\n",
      " \u001b[90m [e88e6eb3]\u001b[39m\u001b[92m + Zygote v0.4.6\u001b[39m\n",
      " \u001b[90m [9fa8497b]\u001b[39m\u001b[92m + Future \u001b[39m\n"
     ]
    }
   ],
   "source": [
    "import Pkg; \n",
    "Pkg.add(\"Turing\")"
   ]
  },
  {
   "cell_type": "code",
   "execution_count": 3,
   "metadata": {},
   "outputs": [
    {
     "name": "stdout",
     "output_type": "stream",
     "text": [
      "\u001b[32m\u001b[1m Resolving\u001b[22m\u001b[39m package versions...\n",
      "\u001b[32m\u001b[1m  Updating\u001b[22m\u001b[39m `~/TAMode.jl/Project.toml`\n",
      "\u001b[90m [no changes]\u001b[39m\n",
      "\u001b[32m\u001b[1m  Updating\u001b[22m\u001b[39m `~/TAMode.jl/Manifest.toml`\n",
      "\u001b[90m [no changes]\u001b[39m\n"
     ]
    }
   ],
   "source": [
    "Pkg.resolve()"
   ]
  },
  {
   "cell_type": "code",
   "execution_count": 3,
   "metadata": {},
   "outputs": [
    {
     "data": {
      "text/plain": [
       "(DataFrameRow. Omitted printing of 2 columns\n",
       "│ Row │ Column2  │ Column3  │ Column4  │ Column5  │ Column6  │ Column7  │\n",
       "│     │ \u001b[90mString\u001b[39m   │ \u001b[90mString\u001b[39m   │ \u001b[90mString\u001b[39m   │ \u001b[90mString\u001b[39m   │ \u001b[90mString\u001b[39m   │ \u001b[90mString\u001b[39m   │\n",
       "├─────┼──────────┼──────────┼──────────┼──────────┼──────────┼──────────┤\n",
       "│ 1   │ 5.00E-08 │ 2.50E-08 │ 1.25E-08 │ 6.25E-09 │ 3.13E-09 │ 1.56E-09 │, [222.21, 222.41, 222.61, 222.81, 223.01, 223.21, 223.41, 223.61, 223.81, 224.01  …  1720.22, 1720.42, 1720.62, 1720.82, 1721.02, 1721.22, 1721.42, 1721.62, 1721.82, 1722.02], 7500×8 DataFrame. Omitted printing of 3 columns\n",
       "│ Row  │ Column2    │ Column3     │ Column4     │ Column5     │ Column6     │\n",
       "│      │ \u001b[90mString\u001b[39m     │ \u001b[90mString\u001b[39m      │ \u001b[90mString\u001b[39m      │ \u001b[90mString\u001b[39m      │ \u001b[90mString\u001b[39m      │\n",
       "├──────┼────────────┼─────────────┼─────────────┼─────────────┼─────────────┤\n",
       "│ 1    │ 0.00552104 │ -0.00505663 │ -0.00881984 │ -0.0064149  │ -0.00704121 │\n",
       "│ 2    │ 0.00670767 │ -0.00457784 │ -0.00872952 │ -0.00678175 │ -0.00690033 │\n",
       "│ 3    │ 0.00826981 │ -0.00392381 │ -0.00880399 │ -0.00701105 │ -0.00640926 │\n",
       "│ 4    │ 0.00945831 │ -0.00319492 │ -0.00859242 │ -0.006914   │ -0.00607355 │\n",
       "│ 5    │ 0.01080949 │ -0.00239128 │ -0.00850139 │ -0.00680414 │ -0.00577611 │\n",
       "│ 6    │ 0.01221928 │ -0.00137241 │ -0.00828275 │ -0.00679177 │ -0.0055332  │\n",
       "│ 7    │ 0.01374524 │ -0.00090018 │ -0.00781096 │ -0.00652503 │ -0.00530488 │\n",
       "│ 8    │ 0.01520637 │ -0.00022048 │ -0.00749045 │ -0.00646815 │ -0.00514408 │\n",
       "│ 9    │ 0.01658879 │ 0.0003143   │ -0.00724879 │ -0.00615535 │ -0.00515063 │\n",
       "│ 10   │ 0.01787222 │ 0.00101611  │ -0.00710634 │ -0.0057675  │ -0.00536115 │\n",
       "⋮\n",
       "│ 7490 │ 0.04578376 │ 0.0314101   │ 0.02324423  │ 0.02186847  │ 0.03203325  │\n",
       "│ 7491 │ 0.04588935 │ 0.0314748   │ 0.02323234  │ 0.02226765  │ 0.03214565  │\n",
       "│ 7492 │ 0.0458868  │ 0.03159665  │ 0.02353554  │ 0.02271502  │ 0.03206187  │\n",
       "│ 7493 │ 0.04568444 │ 0.03158273  │ 0.02352524  │ 0.0228272   │ 0.03220129  │\n",
       "│ 7494 │ 0.04569978 │ 0.03155317  │ 0.02353208  │ 0.02290445  │ 0.03244829  │\n",
       "│ 7495 │ 0.04552758 │ 0.03179513  │ 0.02344468  │ 0.02291647  │ 0.03257935  │\n",
       "│ 7496 │ 0.0456357  │ 0.03184412  │ 0.0234694   │ 0.02294416  │ 0.03242795  │\n",
       "│ 7497 │ 0.04561294 │ 0.03207958  │ 0.02325715  │ 0.02289276  │ 0.03233374  │\n",
       "│ 7498 │ 0.04575586 │ 0.03222714  │ 0.02343829  │ 0.02303418  │ 0.03232002  │\n",
       "│ 7499 │ 0.04582042 │ 0.03251554  │ 0.02353045  │ 0.0228003   │ 0.03211931  │\n",
       "│ 7500 │ 0.04610686 │ 0.03264667  │ 0.02356925  │ 0.02242307  │ 0.03192753  │)"
      ]
     },
     "execution_count": 3,
     "metadata": {},
     "output_type": "execute_result"
    }
   ],
   "source": [
    "conc, tps, measVal = TAMode.importData(\"data/T1-010820.csv\")"
   ]
  },
  {
   "cell_type": "code",
   "execution_count": 8,
   "metadata": {},
   "outputs": [
    {
     "data": {
      "text/plain": [
       "plotBLI (generic function with 1 method)"
      ]
     },
     "execution_count": 8,
     "metadata": {},
     "output_type": "execute_result"
    }
   ],
   "source": [
    "function plotBLI(cond)\n",
    "    conc, tps, bindData = TAMode.importData(cond)\n",
    "    bindData = Matrix(bindData)\n",
    "    plot(parse.(tps), parse.(bindData), title=cond, label=[conc[1] conc[2] conc[3] conc[4] conc[5] conc[6] conc[7] conc[8]], lw=3)\n",
    "end"
   ]
  },
  {
   "cell_type": "code",
   "execution_count": 9,
   "metadata": {},
   "outputs": [
    {
     "ename": "MethodError",
     "evalue": "MethodError: no method matching parse(::Float64)\nClosest candidates are:\n  parse(!Matched::Type{LibGit2.GitCredential}, !Matched::AbstractString) at /buildworker/worker/package_linux64/build/usr/share/julia/stdlib/v1.2/LibGit2/src/gitcredential.jl:73\n  parse(!Matched::Type{LibGit2.GitCredentialHelper}, !Matched::AbstractString) at /buildworker/worker/package_linux64/build/usr/share/julia/stdlib/v1.2/LibGit2/src/gitcredential.jl:163\n  parse(!Matched::Type{Sockets.IPv4}, !Matched::AbstractString) at /buildworker/worker/package_linux64/build/usr/share/julia/stdlib/v1.2/Sockets/src/IPAddr.jl:173\n  ...",
     "output_type": "error",
     "traceback": [
      "MethodError: no method matching parse(::Float64)\nClosest candidates are:\n  parse(!Matched::Type{LibGit2.GitCredential}, !Matched::AbstractString) at /buildworker/worker/package_linux64/build/usr/share/julia/stdlib/v1.2/LibGit2/src/gitcredential.jl:73\n  parse(!Matched::Type{LibGit2.GitCredentialHelper}, !Matched::AbstractString) at /buildworker/worker/package_linux64/build/usr/share/julia/stdlib/v1.2/LibGit2/src/gitcredential.jl:163\n  parse(!Matched::Type{Sockets.IPv4}, !Matched::AbstractString) at /buildworker/worker/package_linux64/build/usr/share/julia/stdlib/v1.2/Sockets/src/IPAddr.jl:173\n  ...",
      "",
      "Stacktrace:",
      " [1] _broadcast_getindex_evalf at ./broadcast.jl:625 [inlined]",
      " [2] _broadcast_getindex at ./broadcast.jl:598 [inlined]",
      " [3] getindex at ./broadcast.jl:558 [inlined]",
      " [4] copy at ./broadcast.jl:832 [inlined]",
      " [5] materialize(::Base.Broadcast.Broadcasted{Base.Broadcast.DefaultArrayStyle{1},Nothing,typeof(parse),Tuple{Array{Float64,1}}}) at ./broadcast.jl:798",
      " [6] plotBLI(::String) at ./In[8]:4",
      " [7] top-level scope at In[9]:1"
     ]
    }
   ],
   "source": [
    "plotBLI(\"data/T1-010820.csv\")"
   ]
  },
  {
   "cell_type": "code",
   "execution_count": null,
   "metadata": {},
   "outputs": [],
   "source": [
    "Tshift = 822.2\n",
    "tps[tps .> Tshift] .- Tshift"
   ]
  },
  {
   "cell_type": "code",
   "execution_count": null,
   "metadata": {},
   "outputs": [],
   "source": [
    "# Settings of the Hamiltonian Monte Carlo (HMC) sampler.\n",
    "iterations = 1000\n",
    "ϵ = 0.05\n",
    "τ = 10\n",
    "\n",
    "# Start sampling.\n",
    "chain = sample(test(2), HMC(ϵ, τ), iterations, progress=false);"
   ]
  },
  {
   "cell_type": "code",
   "execution_count": 4,
   "metadata": {},
   "outputs": [
    {
     "data": {
      "text/plain": [
       "4500-element Array{Float64,1}:\n",
       " NaN\n",
       " NaN\n",
       " NaN\n",
       " NaN\n",
       " NaN\n",
       " NaN\n",
       " NaN\n",
       " NaN\n",
       " NaN\n",
       " NaN\n",
       " NaN\n",
       " NaN\n",
       " NaN\n",
       "   ⋮\n",
       " NaN\n",
       " NaN\n",
       " NaN\n",
       " NaN\n",
       " NaN\n",
       " NaN\n",
       " NaN\n",
       " NaN\n",
       " NaN\n",
       " NaN\n",
       " NaN\n",
       " NaN"
      ]
     },
     "execution_count": 4,
     "metadata": {},
     "output_type": "execute_result"
    }
   ],
   "source": [
    "tBind = tps[tps.<Tshift].- tps[1]\n",
    "bind_step = TAMode.R1Calc(1, 1, 1, tBind)\n",
    "unbind_step = TAMode.R2Calc(bind_step[end], 1, tps[tps .> Tshift] .- Tshift)"
   ]
  },
  {
   "cell_type": "code",
   "execution_count": 7,
   "metadata": {},
   "outputs": [
    {
     "data": {
      "text/plain": [
       "3000-element Array{Float64,1}:\n",
       "   0.5\n",
       "   0.5\n",
       "   0.5\n",
       "   0.5\n",
       "   0.5\n",
       "   0.5\n",
       "   0.5\n",
       "   0.5\n",
       "   0.5\n",
       "   0.5\n",
       "   0.5\n",
       "   0.5\n",
       "   0.5\n",
       "   ⋮  \n",
       " NaN  \n",
       " NaN  \n",
       " NaN  \n",
       " NaN  \n",
       " NaN  \n",
       " NaN  \n",
       " NaN  \n",
       " NaN  \n",
       " NaN  \n",
       " NaN  \n",
       " NaN  \n",
       " NaN  "
      ]
     },
     "execution_count": 7,
     "metadata": {},
     "output_type": "execute_result"
    }
   ],
   "source": [
    "bind_step[:]"
   ]
  },
  {
   "cell_type": "code",
   "execution_count": null,
   "metadata": {},
   "outputs": [],
   "source": [
    "y = vcat(tps, x)"
   ]
  },
  {
   "cell_type": "code",
   "execution_count": 6,
   "metadata": {},
   "outputs": [
    {
     "data": {
      "text/plain": [
       "(15000,)"
      ]
     },
     "execution_count": 6,
     "metadata": {},
     "output_type": "execute_result"
    }
   ],
   "source": [
    "N = size(y)"
   ]
  },
  {
   "cell_type": "code",
   "execution_count": null,
   "metadata": {},
   "outputs": [],
   "source": []
  }
 ],
 "metadata": {
  "kernelspec": {
   "display_name": "Julia 1.3.0",
   "language": "julia",
   "name": "julia-1.3"
  },
  "language_info": {
   "file_extension": ".jl",
   "mimetype": "application/julia",
   "name": "julia",
   "version": "1.3.0"
  }
 },
 "nbformat": 4,
 "nbformat_minor": 4
}
