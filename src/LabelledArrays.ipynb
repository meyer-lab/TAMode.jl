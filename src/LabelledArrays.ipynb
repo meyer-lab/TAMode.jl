{
 "cells": [
  {
   "cell_type": "code",
   "execution_count": 1,
   "metadata": {},
   "outputs": [
    {
     "name": "stdout",
     "output_type": "stream",
     "text": [
      "\u001b[32m\u001b[1m  Updating\u001b[22m\u001b[39m registry at `~/.julia/registries/General`\n",
      "\u001b[32m\u001b[1m  Updating\u001b[22m\u001b[39m git-repo `https://github.com/JuliaRegistries/General.git`\n",
      "\u001b[?25l\u001b[2K\u001b[?25h\u001b[32m\u001b[1m Resolving\u001b[22m\u001b[39m package versions...\n",
      "\u001b[32m\u001b[1m  Updating\u001b[22m\u001b[39m `~/.julia/environments/v1.2/Project.toml`\n",
      "\u001b[90m [no changes]\u001b[39m\n",
      "\u001b[32m\u001b[1m  Updating\u001b[22m\u001b[39m `~/.julia/environments/v1.2/Manifest.toml`\n",
      "\u001b[90m [no changes]\u001b[39m\n"
     ]
    },
    {
     "name": "stderr",
     "output_type": "stream",
     "text": [
      "┌ Info: Recompiling stale cache file /home/sumedhak/.julia/compiled/v1.2/LabelledArrays/nJ41K.ji for LabelledArrays [2ee39098-c373-598a-b85f-a56591580800]\n",
      "└ @ Base loading.jl:1240\n"
     ]
    },
    {
     "ename": "MethodError",
     "evalue": "MethodError: no method matching iterate(::Type{Float64})\nClosest candidates are:\n  iterate(!Matched::Core.SimpleVector) at essentials.jl:604\n  iterate(!Matched::Core.SimpleVector, !Matched::Any) at essentials.jl:604\n  iterate(!Matched::ExponentialBackOff) at error.jl:214\n  ...",
     "output_type": "error",
     "traceback": [
      "MethodError: no method matching iterate(::Type{Float64})\nClosest candidates are:\n  iterate(!Matched::Core.SimpleVector) at essentials.jl:604\n  iterate(!Matched::Core.SimpleVector, !Matched::Any) at essentials.jl:604\n  iterate(!Matched::ExponentialBackOff) at error.jl:214\n  ...",
      "",
      "Stacktrace:",
      " [1] append_any(::Any, ::Vararg{Any,N} where N) at ./essentials.jl:722",
      " [2] top-level scope at /home/sumedhak/.julia/packages/LabelledArrays/FPxnC/src/slarray.jl:136",
      " [3] top-level scope at In[1]:4"
     ]
    }
   ],
   "source": [
    "using Pkg\n",
    "Pkg.add(\"LabelledArrays\")\n",
    "using LabelledArrays\n",
    "TAM = @SLArray Float64 (:a,:b,:c)\n"
   ]
  },
  {
   "cell_type": "code",
   "execution_count": 2,
   "metadata": {},
   "outputs": [
    {
     "name": "stdout",
     "output_type": "stream",
     "text": [
      "23"
     ]
    }
   ],
   "source": [
    "for i=2:3\n",
    "    print(i)\n",
    "end"
   ]
  },
  {
   "cell_type": "code",
   "execution_count": 3,
   "metadata": {},
   "outputs": [
    {
     "ename": "UndefVarError",
     "evalue": "UndefVarError: AXL not defined",
     "output_type": "error",
     "traceback": [
      "UndefVarError: AXL not defined",
      "",
      "Stacktrace:",
      " [1] top-level scope at In[3]:1"
     ]
    }
   ],
   "source": [
    "#=mutable struct TAMrates\n",
    "\tbinding::Array{Int64,1}\n",
    "    xRev::Array{Int64,1}\n",
    "    xFwd6::Int64\n",
    "end=#\n",
    "\n",
    "TAMs = [AXL::TAMrates, MerTK::TAMrates, Tyro3::TAMrates]\n",
    "\n",
    "for ii = 2:3\n",
    "        \n",
    "        TAMs[ii].xFwd6 = max(TAMs[ii].binding[1], TAMs[ii].binding[3])\n",
    "        TAMs[ii].xRev[5] = TAMs[1].xRev[6]*TAMs[ii].binding[2]*TAMs[ii].binding[4]/TAMs[1].binding[4]/TAMs[1].binding[2];\n",
    "end"
   ]
  },
  {
   "cell_type": "code",
   "execution_count": null,
   "metadata": {},
   "outputs": [],
   "source": []
  },
  {
   "cell_type": "code",
   "execution_count": null,
   "metadata": {},
   "outputs": [],
   "source": []
  }
 ],
 "metadata": {
  "kernelspec": {
   "display_name": "Julia 1.2.0",
   "language": "julia",
   "name": "julia-1.2"
  },
  "language_info": {
   "file_extension": ".jl",
   "mimetype": "application/julia",
   "name": "julia",
   "version": "1.2.0"
  }
 },
 "nbformat": 4,
 "nbformat_minor": 4
}
