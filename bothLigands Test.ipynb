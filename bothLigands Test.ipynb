{
 "cells": [
  {
   "cell_type": "code",
   "execution_count": 2,
   "metadata": {},
   "outputs": [
    {
     "name": "stderr",
     "output_type": "stream",
     "text": [
      "┌ Info: Precompiling TAMode [294f26d0-a9c2-4f6a-959f-92a060cb6778]\n",
      "└ @ Base loading.jl:1273\n"
     ]
    }
   ],
   "source": [
    "using Pkg\n",
    "Pkg.instantiate()\n",
    "import TAMode"
   ]
  },
  {
   "cell_type": "code",
   "execution_count": 8,
   "metadata": {},
   "outputs": [
    {
     "name": "stdout",
     "output_type": "stream",
     "text": [
      "\u001b[37mTest if bothLigands function works.: \u001b[39m\u001b[91m\u001b[1mError During Test\u001b[22m\u001b[39m at \u001b[39m\u001b[1mIn[8]:4\u001b[22m\n",
      "  Got exception outside of a @test\n",
      "  type Array has no field curL\n",
      "  Stacktrace:\n",
      "   [1] getproperty(::Array{Float64,1}, ::Symbol) at ./Base.jl:20\n",
      "   [2] TAMreactLS(::Array{Float64,1}, ::Array{Float64,1}, ::Array{Float64,1}, ::Float64) at /home/atsao/TAMode.jl/src/bothLigands.jl:127\n",
      "   [3] (::DiffEqBase.ODEFunction{true,typeof(TAMode.TAMreactLS),LinearAlgebra.UniformScaling{Bool},Nothing,Nothing,Nothing,Nothing,Nothing,Nothing,Nothing,Nothing,Nothing,Nothing,Nothing})(::Array{Float64,1}, ::Vararg{Any,N} where N) at /home/atsao/.julia/packages/DiffEqBase/MuYi1/src/diffeqfunction.jl:219\n",
      "   [4] initialize!(::OrdinaryDiffEq.ODEIntegrator{OrdinaryDiffEq.Rodas5{0,true,DiffEqBase.DefaultLinSolve,DataType},true,Array{Float64,1},Float64,Array{Float64,1},Float64,Float64,Float64,Array{Array{Float64,1},1},DiffEqBase.ODESolution{Float64,2,Array{Array{Float64,1},1},Nothing,Nothing,Array{Float64,1},Array{Array{Array{Float64,1},1},1},DiffEqBase.ODEProblem{Array{Float64,1},Tuple{Float64,Float64},true,Array{Float64,1},DiffEqBase.ODEFunction{true,typeof(TAMode.TAMreactLS),LinearAlgebra.UniformScaling{Bool},Nothing,Nothing,Nothing,Nothing,Nothing,Nothing,Nothing,Nothing,Nothing,Nothing,Nothing},Base.Iterators.Pairs{Union{},Union{},Tuple{},NamedTuple{(),Tuple{}}},DiffEqBase.StandardODEProblem},OrdinaryDiffEq.Rodas5{0,true,DiffEqBase.DefaultLinSolve,DataType},OrdinaryDiffEq.InterpolationData{DiffEqBase.ODEFunction{true,typeof(TAMode.TAMreactLS),LinearAlgebra.UniformScaling{Bool},Nothing,Nothing,Nothing,Nothing,Nothing,Nothing,Nothing,Nothing,Nothing,Nothing,Nothing},Array{Array{Float64,1},1},Array{Float64,1},Array{Array{Array{Float64,1},1},1},OrdinaryDiffEq.Rosenbrock5Cache{Array{Float64,1},Array{Float64,1},Array{Float64,1},Array{Float64,2},Array{Float64,2},OrdinaryDiffEq.Rodas5Tableau{Float64,Float64},DiffEqBase.TimeGradientWrapper{DiffEqBase.ODEFunction{true,typeof(TAMode.TAMreactLS),LinearAlgebra.UniformScaling{Bool},Nothing,Nothing,Nothing,Nothing,Nothing,Nothing,Nothing,Nothing,Nothing,Nothing,Nothing},Array{Float64,1},Array{Float64,1}},DiffEqBase.UJacobianWrapper{DiffEqBase.ODEFunction{true,typeof(TAMode.TAMreactLS),LinearAlgebra.UniformScaling{Bool},Nothing,Nothing,Nothing,Nothing,Nothing,Nothing,Nothing,Nothing,Nothing,Nothing,Nothing},Float64,Array{Float64,1}},DiffEqBase.DefaultLinSolve,SparseDiffTools.ForwardColorJacCache{Array{ForwardDiff.Dual{ForwardDiff.Tag{DiffEqBase.UJacobianWrapper{DiffEqBase.ODEFunction{true,typeof(TAMode.TAMreactLS),LinearAlgebra.UniformScaling{Bool},Nothing,Nothing,Nothing,Nothing,Nothing,Nothing,Nothing,Nothing,Nothing,Nothing,Nothing},Float64,Array{Float64,1}},Float64}(),Float64,12},1},Array{ForwardDiff.Dual{ForwardDiff.Tag{DiffEqBase.UJacobianWrapper{DiffEqBase.ODEFunction{true,typeof(TAMode.TAMreactLS),LinearAlgebra.UniformScaling{Bool},Nothing,Nothing,Nothing,Nothing,Nothing,Nothing,Nothing,Nothing,Nothing,Nothing,Nothing},Float64,Array{Float64,1}},Float64}(),Float64,12},1},Array{Float64,1},Array{Array{NTuple{12,Bool},1},1},UnitRange{Int64},Nothing},ForwardDiff.DerivativeConfig{ForwardDiff.Tag{DiffEqBase.TimeGradientWrapper{DiffEqBase.ODEFunction{true,typeof(TAMode.TAMreactLS),LinearAlgebra.UniformScaling{Bool},Nothing,Nothing,Nothing,Nothing,Nothing,Nothing,Nothing,Nothing,Nothing,Nothing,Nothing},Array{Float64,1},Array{Float64,1}},Float64},Array{ForwardDiff.Dual{ForwardDiff.Tag{DiffEqBase.TimeGradientWrapper{DiffEqBase.ODEFunction{true,typeof(TAMode.TAMreactLS),LinearAlgebra.UniformScaling{Bool},Nothing,Nothing,Nothing,Nothing,Nothing,Nothing,Nothing,Nothing,Nothing,Nothing,Nothing},Array{Float64,1},Array{Float64,1}},Float64},Float64,1},1}}}},DiffEqBase.DEStats},DiffEqBase.ODEFunction{true,typeof(TAMode.TAMreactLS),LinearAlgebra.UniformScaling{Bool},Nothing,Nothing,Nothing,Nothing,Nothing,Nothing,Nothing,Nothing,Nothing,Nothing,Nothing},OrdinaryDiffEq.Rosenbrock5Cache{Array{Float64,1},Array{Float64,1},Array{Float64,1},Array{Float64,2},Array{Float64,2},OrdinaryDiffEq.Rodas5Tableau{Float64,Float64},DiffEqBase.TimeGradientWrapper{DiffEqBase.ODEFunction{true,typeof(TAMode.TAMreactLS),LinearAlgebra.UniformScaling{Bool},Nothing,Nothing,Nothing,Nothing,Nothing,Nothing,Nothing,Nothing,Nothing,Nothing,Nothing},Array{Float64,1},Array{Float64,1}},DiffEqBase.UJacobianWrapper{DiffEqBase.ODEFunction{true,typeof(TAMode.TAMreactLS),LinearAlgebra.UniformScaling{Bool},Nothing,Nothing,Nothing,Nothing,Nothing,Nothing,Nothing,Nothing,Nothing,Nothing,Nothing},Float64,Array{Float64,1}},DiffEqBase.DefaultLinSolve,SparseDiffTools.ForwardColorJacCache{Array{ForwardDiff.Dual{ForwardDiff.Tag{DiffEqBase.UJacobianWrapper{DiffEqBase.ODEFunction{true,typeof(TAMode.TAMreactLS),LinearAlgebra.UniformScaling{Bool},Nothing,Nothing,Nothing,Nothing,Nothing,Nothing,Nothing,Nothing,Nothing,Nothing,Nothing},Float64,Array{Float64,1}},Float64}(),Float64,12},1},Array{ForwardDiff.Dual{ForwardDiff.Tag{DiffEqBase.UJacobianWrapper{DiffEqBase.ODEFunction{true,typeof(TAMode.TAMreactLS),LinearAlgebra.UniformScaling{Bool},Nothing,Nothing,Nothing,Nothing,Nothing,Nothing,Nothing,Nothing,Nothing,Nothing,Nothing},Float64,Array{Float64,1}},Float64}(),Float64,12},1},Array{Float64,1},Array{Array{NTuple{12,Bool},1},1},UnitRange{Int64},Nothing},ForwardDiff.DerivativeConfig{ForwardDiff.Tag{DiffEqBase.TimeGradientWrapper{DiffEqBase.ODEFunction{true,typeof(TAMode.TAMreactLS),LinearAlgebra.UniformScaling{Bool},Nothing,Nothing,Nothing,Nothing,Nothing,Nothing,Nothing,Nothing,Nothing,Nothing,Nothing},Array{Float64,1},Array{Float64,1}},Float64},Array{ForwardDiff.Dual{ForwardDiff.Tag{DiffEqBase.TimeGradientWrapper{DiffEqBase.ODEFunction{true,typeof(TAMode.TAMreactLS),LinearAlgebra.UniformScaling{Bool},Nothing,Nothing,Nothing,Nothing,Nothing,Nothing,Nothing,Nothing,Nothing,Nothing,Nothing},Array{Float64,1},Array{Float64,1}},Float64},Float64,1},1}}},OrdinaryDiffEq.DEOptions{Float64,Float64,Float64,Float64,typeof(DiffEqBase.ODE_DEFAULT_NORM),typeof(LinearAlgebra.opnorm),DiffEqBase.CallbackSet{Tuple{},Tuple{DiffEqBase.DiscreteCallback{DiffEqCallbacks.var\"#48#50\"{Float64,Float64,typeof(DiffEqCallbacks.allDerivPass)},DiffEqCallbacks.var\"#49#51\",typeof(DiffEqBase.INITIALIZE_DEFAULT)}}},typeof(TAMode.domainDef),typeof(DiffEqBase.ODE_DEFAULT_PROG_MESSAGE),typeof(DiffEqBase.ODE_DEFAULT_UNSTABLE_CHECK),DataStructures.BinaryHeap{Float64,DataStructures.LessThan},DataStructures.BinaryHeap{Float64,DataStructures.LessThan},Nothing,Nothing,Int64,Array{Float64,1},Array{Float64,1},Array{Float64,1}},Array{Float64,1},Float64,Nothing}, ::OrdinaryDiffEq.Rosenbrock5Cache{Array{Float64,1},Array{Float64,1},Array{Float64,1},Array{Float64,2},Array{Float64,2},OrdinaryDiffEq.Rodas5Tableau{Float64,Float64},DiffEqBase.TimeGradientWrapper{DiffEqBase.ODEFunction{true,typeof(TAMode.TAMreactLS),LinearAlgebra.UniformScaling{Bool},Nothing,Nothing,Nothing,Nothing,Nothing,Nothing,Nothing,Nothing,Nothing,Nothing,Nothing},Array{Float64,1},Array{Float64,1}},DiffEqBase.UJacobianWrapper{DiffEqBase.ODEFunction{true,typeof(TAMode.TAMreactLS),LinearAlgebra.UniformScaling{Bool},Nothing,Nothing,Nothing,Nothing,Nothing,Nothing,Nothing,Nothing,Nothing,Nothing,Nothing},Float64,Array{Float64,1}},DiffEqBase.DefaultLinSolve,SparseDiffTools.ForwardColorJacCache{Array{ForwardDiff.Dual{ForwardDiff.Tag{DiffEqBase.UJacobianWrapper{DiffEqBase.ODEFunction{true,typeof(TAMode.TAMreactLS),LinearAlgebra.UniformScaling{Bool},Nothing,Nothing,Nothing,Nothing,Nothing,Nothing,Nothing,Nothing,Nothing,Nothing,Nothing},Float64,Array{Float64,1}},Float64}(),Float64,12},1},Array{ForwardDiff.Dual{ForwardDiff.Tag{DiffEqBase.UJacobianWrapper{DiffEqBase.ODEFunction{true,typeof(TAMode.TAMreactLS),LinearAlgebra.UniformScaling{Bool},Nothing,Nothing,Nothing,Nothing,Nothing,Nothing,Nothing,Nothing,Nothing,Nothing,Nothing},Float64,Array{Float64,1}},Float64}(),Float64,12},1},Array{Float64,1},Array{Array{NTuple{12,Bool},1},1},UnitRange{Int64},Nothing},ForwardDiff.DerivativeConfig{ForwardDiff.Tag{DiffEqBase.TimeGradientWrapper{DiffEqBase.ODEFunction{true,typeof(TAMode.TAMreactLS),LinearAlgebra.UniformScaling{Bool},Nothing,Nothing,Nothing,Nothing,Nothing,Nothing,Nothing,Nothing,Nothing,Nothing,Nothing},Array{Float64,1},Array{Float64,1}},Float64},Array{ForwardDiff.Dual{ForwardDiff.Tag{DiffEqBase.TimeGradientWrapper{DiffEqBase.ODEFunction{true,typeof(TAMode.TAMreactLS),LinearAlgebra.UniformScaling{Bool},Nothing,Nothing,Nothing,Nothing,Nothing,Nothing,Nothing,Nothing,Nothing,Nothing,Nothing},Array{Float64,1},Array{Float64,1}},Float64},Float64,1},1}}}) at /home/atsao/.julia/packages/OrdinaryDiffEq/nV9bA/src/perform_step/rosenbrock_perform_step.jl:280\n",
      "   [5] #__init#328(::Array{Float64,1}, ::Array{Float64,1}, ::Array{Float64,1}, ::Nothing, ::Bool, ::Bool, ::Bool, ::Bool, ::DiffEqBase.DiscreteCallback{DiffEqCallbacks.var\"#48#50\"{Float64,Float64,typeof(DiffEqCallbacks.allDerivPass)},DiffEqCallbacks.var\"#49#51\",typeof(DiffEqBase.INITIALIZE_DEFAULT)}, ::Bool, ::Bool, ::Float64, ::Float64, ::Float64, ::Bool, ::Bool, ::Rational{Int64}, ::Float64, ::Float64, ::Rational{Int64}, ::Int64, ::Int64, ::Rational{Int64}, ::Rational{Int64}, ::Bool, ::Int64, ::Nothing, ::Nothing, ::Int64, ::typeof(DiffEqBase.ODE_DEFAULT_NORM), ::typeof(LinearAlgebra.opnorm), ::typeof(TAMode.domainDef), ::typeof(DiffEqBase.ODE_DEFAULT_UNSTABLE_CHECK), ::Bool, ::Bool, ::Bool, ::Bool, ::Bool, ::Bool, ::Bool, ::Int64, ::String, ::typeof(DiffEqBase.ODE_DEFAULT_PROG_MESSAGE), ::Nothing, ::Bool, ::Bool, ::Bool, ::Bool, ::Base.Iterators.Pairs{Union{},Union{},Tuple{},NamedTuple{(),Tuple{}}}, ::typeof(DiffEqBase.__init), ::DiffEqBase.ODEProblem{Array{Float64,1},Tuple{Float64,Float64},true,Array{Float64,1},DiffEqBase.ODEFunction{true,typeof(TAMode.TAMreactLS),LinearAlgebra.UniformScaling{Bool},Nothing,Nothing,Nothing,Nothing,Nothing,Nothing,Nothing,Nothing,Nothing,Nothing,Nothing},Base.Iterators.Pairs{Union{},Union{},Tuple{},NamedTuple{(),Tuple{}}},DiffEqBase.StandardODEProblem}, ::OrdinaryDiffEq.Rodas5{0,true,DiffEqBase.DefaultLinSolve,DataType}, ::Array{Array{Float64,1},1}, ::Array{Float64,1}, ::Array{Any,1}, ::Type{Val{true}}) at /home/atsao/.julia/packages/OrdinaryDiffEq/nV9bA/src/solve.jl:383\n",
      "   [6] (::DiffEqBase.var\"#kw##__init\")(::NamedTuple{(:reltol, :abstol, :isoutofdomain, :callback, :save_everystep, :save_start),Tuple{Float64,Float64,typeof(TAMode.domainDef),DiffEqBase.DiscreteCallback{DiffEqCallbacks.var\"#48#50\"{Float64,Float64,typeof(DiffEqCallbacks.allDerivPass)},DiffEqCallbacks.var\"#49#51\",typeof(DiffEqBase.INITIALIZE_DEFAULT)},Bool,Bool}}, ::typeof(DiffEqBase.__init), ::DiffEqBase.ODEProblem{Array{Float64,1},Tuple{Float64,Float64},true,Array{Float64,1},DiffEqBase.ODEFunction{true,typeof(TAMode.TAMreactLS),LinearAlgebra.UniformScaling{Bool},Nothing,Nothing,Nothing,Nothing,Nothing,Nothing,Nothing,Nothing,Nothing,Nothing,Nothing},Base.Iterators.Pairs{Union{},Union{},Tuple{},NamedTuple{(),Tuple{}}},DiffEqBase.StandardODEProblem}, ::OrdinaryDiffEq.Rodas5{0,true,DiffEqBase.DefaultLinSolve,DataType}, ::Array{Array{Float64,1},1}, ::Array{Float64,1}, ::Array{Any,1}, ::Type{Val{true}}) at ./none:0 (repeats 4 times)\n",
      "   [7] #__solve#327(::Base.Iterators.Pairs{Symbol,Any,NTuple{6,Symbol},NamedTuple{(:reltol, :abstol, :isoutofdomain, :callback, :save_everystep, :save_start),Tuple{Float64,Float64,typeof(TAMode.domainDef),DiffEqBase.DiscreteCallback{DiffEqCallbacks.var\"#48#50\"{Float64,Float64,typeof(DiffEqCallbacks.allDerivPass)},DiffEqCallbacks.var\"#49#51\",typeof(DiffEqBase.INITIALIZE_DEFAULT)},Bool,Bool}}}, ::typeof(DiffEqBase.__solve), ::DiffEqBase.ODEProblem{Array{Float64,1},Tuple{Float64,Float64},true,Array{Float64,1},DiffEqBase.ODEFunction{true,typeof(TAMode.TAMreactLS),LinearAlgebra.UniformScaling{Bool},Nothing,Nothing,Nothing,Nothing,Nothing,Nothing,Nothing,Nothing,Nothing,Nothing,Nothing},Base.Iterators.Pairs{Union{},Union{},Tuple{},NamedTuple{(),Tuple{}}},DiffEqBase.StandardODEProblem}, ::OrdinaryDiffEq.Rodas5{0,true,DiffEqBase.DefaultLinSolve,DataType}) at /home/atsao/.julia/packages/OrdinaryDiffEq/nV9bA/src/solve.jl:4\n",
      "   [8] #solve_call#442(::Base.Iterators.Pairs{Symbol,Any,NTuple{6,Symbol},NamedTuple{(:reltol, :abstol, :isoutofdomain, :callback, :save_everystep, :save_start),Tuple{Float64,Float64,typeof(TAMode.domainDef),DiffEqBase.DiscreteCallback{DiffEqCallbacks.var\"#48#50\"{Float64,Float64,typeof(DiffEqCallbacks.allDerivPass)},DiffEqCallbacks.var\"#49#51\",typeof(DiffEqBase.INITIALIZE_DEFAULT)},Bool,Bool}}}, ::typeof(DiffEqBase.solve_call), ::DiffEqBase.ODEProblem{Array{Float64,1},Tuple{Float64,Float64},true,Array{Float64,1},DiffEqBase.ODEFunction{true,typeof(TAMode.TAMreactLS),LinearAlgebra.UniformScaling{Bool},Nothing,Nothing,Nothing,Nothing,Nothing,Nothing,Nothing,Nothing,Nothing,Nothing,Nothing},Base.Iterators.Pairs{Union{},Union{},Tuple{},NamedTuple{(),Tuple{}}},DiffEqBase.StandardODEProblem}, ::OrdinaryDiffEq.Rodas5{0,true,DiffEqBase.DefaultLinSolve,DataType}) at ./none:0\n",
      "   [9] #__solve#16(::Bool, ::Bool, ::Base.Iterators.Pairs{Symbol,Any,Tuple{Symbol,Symbol,Symbol},NamedTuple{(:reltol, :abstol, :isoutofdomain),Tuple{Float64,Float64,typeof(TAMode.domainDef)}}}, ::typeof(DiffEqBase.__solve), ::DiffEqBase.SteadyStateProblem{Array{Float64,1},true,Array{Float64,1},DiffEqBase.ODEFunction{true,typeof(TAMode.TAMreactLS),LinearAlgebra.UniformScaling{Bool},Nothing,Nothing,Nothing,Nothing,Nothing,Nothing,Nothing,Nothing,Nothing,Nothing,Nothing},Base.Iterators.Pairs{Union{},Union{},Tuple{},NamedTuple{(),Tuple{}}}}, ::SteadyStateDiffEq.DynamicSS{OrdinaryDiffEq.Rodas5{0,true,DiffEqBase.DefaultLinSolve,DataType},Float64,Float64,Float64}) at ./none:0\n",
      "   [10] #solve_call#442(::Base.Iterators.Pairs{Symbol,Any,Tuple{Symbol,Symbol,Symbol},NamedTuple{(:reltol, :abstol, :isoutofdomain),Tuple{Float64,Float64,typeof(TAMode.domainDef)}}}, ::typeof(DiffEqBase.solve_call), ::DiffEqBase.SteadyStateProblem{Array{Float64,1},true,Array{Float64,1},DiffEqBase.ODEFunction{true,typeof(TAMode.TAMreactLS),LinearAlgebra.UniformScaling{Bool},Nothing,Nothing,Nothing,Nothing,Nothing,Nothing,Nothing,Nothing,Nothing,Nothing,Nothing},Base.Iterators.Pairs{Union{},Union{},Tuple{},NamedTuple{(),Tuple{}}}}, ::SteadyStateDiffEq.DynamicSS{OrdinaryDiffEq.Rodas5{0,true,DiffEqBase.DefaultLinSolve,DataType},Float64,Float64,Float64}) at ./none:0\n",
      "   [11] #solve#443(::Base.Iterators.Pairs{Symbol,Any,Tuple{Symbol,Symbol,Symbol},NamedTuple{(:reltol, :abstol, :isoutofdomain),Tuple{Float64,Float64,typeof(TAMode.domainDef)}}}, ::typeof(DiffEqBase.solve), ::DiffEqBase.SteadyStateProblem{Array{Float64,1},true,Array{Float64,1},DiffEqBase.ODEFunction{true,typeof(TAMode.TAMreactLS),LinearAlgebra.UniformScaling{Bool},Nothing,Nothing,Nothing,Nothing,Nothing,Nothing,Nothing,Nothing,Nothing,Nothing,Nothing},Base.Iterators.Pairs{Union{},Union{},Tuple{},NamedTuple{(),Tuple{}}}}, ::SteadyStateDiffEq.DynamicSS{OrdinaryDiffEq.Rodas5{0,true,DiffEqBase.DefaultLinSolve,DataType},Float64,Float64,Float64}) at ./none:0\n",
      "   [12] (::DiffEqBase.var\"#kw##solve\")(::NamedTuple{(:reltol, :abstol, :isoutofdomain),Tuple{Float64,Float64,typeof(TAMode.domainDef)}}, ::typeof(DiffEqBase.solve), ::DiffEqBase.SteadyStateProblem{Array{Float64,1},true,Array{Float64,1},DiffEqBase.ODEFunction{true,typeof(TAMode.TAMreactLS),LinearAlgebra.UniformScaling{Bool},Nothing,Nothing,Nothing,Nothing,Nothing,Nothing,Nothing,Nothing,Nothing,Nothing,Nothing},Base.Iterators.Pairs{Union{},Union{},Tuple{},NamedTuple{(),Tuple{}}}}, ::SteadyStateDiffEq.DynamicSS{OrdinaryDiffEq.Rodas5{0,true,DiffEqBase.DefaultLinSolve,DataType},Float64,Float64,Float64}) at ./none:0\n",
      "   [13] getAutocrineLS(::Array{Float64,1}) at /home/atsao/TAMode.jl/src/TAMode.jl:38\n",
      "   [14] top-level scope at In[8]:5\n",
      "   [15] top-level scope at /buildworker/worker/package_linux64/build/usr/share/julia/stdlib/v1.3/Test/src/Test.jl:1107\n",
      "   [16] top-level scope at In[8]:5\n",
      "   [17] eval at ./boot.jl:330 [inlined]\n",
      "   [18] softscope_include_string(::Module, ::String, ::String) at /home/atsao/.julia/packages/SoftGlobalScope/cSbw5/src/SoftGlobalScope.jl:218\n",
      "   [19] execute_request(::ZMQ.Socket, ::IJulia.Msg) at /home/atsao/.julia/packages/IJulia/F1GUo/src/execute_request.jl:67\n",
      "   [20] #invokelatest#1 at ./essentials.jl:709 [inlined]\n",
      "   [21] invokelatest at ./essentials.jl:708 [inlined]\n",
      "   [22] eventloop(::ZMQ.Socket) at /home/atsao/.julia/packages/IJulia/F1GUo/src/eventloop.jl:8\n",
      "   [23] (::IJulia.var\"#15#18\")() at ./task.jl:333\n",
      "  \n",
      "\u001b[37m\u001b[1mTest Summary:                       | \u001b[22m\u001b[39m\u001b[91m\u001b[1mError  \u001b[22m\u001b[39m\u001b[36m\u001b[1mTotal\u001b[22m\u001b[39m\n",
      "Test if bothLigands function works. | \u001b[91m    1  \u001b[39m\u001b[36m    1\u001b[39m\n"
     ]
    },
    {
     "ename": "TestSetException",
     "evalue": "Some tests did not pass: 0 passed, 0 failed, 1 errored, 0 broken.",
     "output_type": "error",
     "traceback": [
      "Some tests did not pass: 0 passed, 0 failed, 1 errored, 0 broken.",
      "",
      "Stacktrace:",
      " [1] finish(::Test.DefaultTestSet) at /buildworker/worker/package_linux64/build/usr/share/julia/stdlib/v1.3/Test/src/Test.jl:870",
      " [2] top-level scope at /buildworker/worker/package_linux64/build/usr/share/julia/stdlib/v1.3/Test/src/Test.jl:1117",
      " [3] top-level scope at In[8]:5"
     ]
    }
   ],
   "source": [
    "using Test\n",
    "\n",
    "params7 = fill(0.2, 7)\n",
    "@testset \"Test if bothLigands function works.\" begin\n",
    "    ss = TAMode.getAutocrineLS(params7)\n",
    "end"
   ]
  },
  {
   "cell_type": "code",
   "execution_count": null,
   "metadata": {},
   "outputs": [],
   "source": []
  }
 ],
 "metadata": {
  "kernelspec": {
   "display_name": "Julia 1.3.0",
   "language": "julia",
   "name": "julia-1.3"
  },
  "language_info": {
   "file_extension": ".jl",
   "mimetype": "application/julia",
   "name": "julia",
   "version": "1.3.0"
  }
 },
 "nbformat": 4,
 "nbformat_minor": 4
}
