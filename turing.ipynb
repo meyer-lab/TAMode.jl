{
 "cells": [
  {
   "cell_type": "code",
   "execution_count": 1,
   "metadata": {},
   "outputs": [],
   "source": [
    "using TAMode\n",
    "using Turing\n",
    "\n",
    "# Declare Turing model\n",
    "@model AXLturing() = begin\n",
    "    p = Array{Real}(undef, 15)\n",
    "    p ~ [LogNormal(0.0, 0.5)]\n",
    "    p[3] ~ Beta(1.0, 1.0)\n",
    "\n",
    "    TAMode.runTAM([10.0], p, 100.0)\n",
    "end;"
   ]
  },
  {
   "cell_type": "code",
   "execution_count": null,
   "metadata": {},
   "outputs": [],
   "source": [
    "chn = sample(AXLturing(), NUTS(0.65), 10)"
   ]
  },
  {
   "cell_type": "code",
   "execution_count": null,
   "metadata": {},
   "outputs": [],
   "source": []
  }
 ],
 "metadata": {
  "kernelspec": {
   "display_name": "Julia 1.2.0",
   "language": "julia",
   "name": "julia-1.2"
  },
  "language_info": {
   "file_extension": ".jl",
   "mimetype": "application/julia",
   "name": "julia",
   "version": "1.2.0"
  }
 },
 "nbformat": 4,
 "nbformat_minor": 4
}
