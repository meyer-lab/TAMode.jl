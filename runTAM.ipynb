{
 "cells": [
  {
   "cell_type": "code",
   "execution_count": 7,
   "metadata": {},
   "outputs": [],
   "source": [
    "using Pkg\n",
    "Pkg.instantiate()\n",
    "import TAMode\n",
    "using Turing"
   ]
  },
  {
   "cell_type": "code",
   "execution_count": 66,
   "metadata": {},
   "outputs": [
    {
     "data": {
      "text/plain": [
       "(::DynamicPPL.ModelGen{(:tps, :TV),var\"###test#1786\",NamedTuple{(:TV,),Tuple{Type{Array{Float64,1}}}}}) (generic function with 1 method)"
      ]
     },
     "execution_count": 66,
     "metadata": {},
     "output_type": "execute_result"
    }
   ],
   "source": [
    "tpoints = 10.0 .^ range(-6.0, stop = 2.0, length = 10)\n",
    "\n",
    "\n",
    "@model test(tps, ::Type{TV}=Vector{Float64}) where {TV} = begin\n",
    "    expData = [4.1, 3.6, 5.3, 11.3, 11.6];\n",
    "    \n",
    "    paramsA ~ MvLogNormal(fill(-6.0, 2), 0.01)\n",
    "    paramsB ~ Truncated(LogNormal(-1.0, 0.01), 0.0, 1.0)\n",
    "    paramsC ~ MvLogNormal(fill(-6.0, 12), 0.01)\n",
    "    \n",
    "    params = vcat(paramsA, paramsB, paramsC)\n",
    "\n",
    "    #data = TAMode.getAutocrine(params)\n",
    "    data = TAMode.runTAM(tps, params, 10.0)\n",
    "    pYAXL = TAMode.pY .* TAMode.recpSpecific[1]\n",
    "    tData = data * pYAXL\n",
    "    resids = expData .- tData #scale?\n",
    "    resids ~ MvNormal(zeros(length(resids)), ones(length(resids))*std(resids))\n",
    "end"
   ]
  },
  {
   "cell_type": "code",
   "execution_count": null,
   "metadata": {},
   "outputs": [
    {
     "name": "stderr",
     "output_type": "stream",
     "text": [
      "\u001b[32mSampling  10%|███▏                           |  ETA: 0:33:29\u001b[39m\n",
      "\u001b[34m  iteration:                 1\u001b[39m\n",
      "\u001b[34m  n_steps:                   5\u001b[39m\n",
      "\u001b[34m  is_accept:                 true\u001b[39m\n",
      "\u001b[34m  acceptance_rate:           1.0\u001b[39m\n",
      "\u001b[34m  log_density:               28.992784723589796\u001b[39m\n",
      "\u001b[34m  hamiltonian_energy:        -16.9698118319646\u001b[39m\n",
      "\u001b[34m  hamiltonian_energy_error:  -0.4630247072601179\u001b[39m\n",
      "\u001b[34m  step_size:                 0.01\u001b[39m\n",
      "\u001b[34m  nom_step_size:             0.01\u001b[39m\n",
      "\u001b[A4m  mass_matrix:               UnitEuclideanMetric([1.0, 1.0, 1.0, 1.0, 1.0, 1 ...])\u001b[39m\n",
      "\n",
      "\n",
      "\n",
      "\n",
      "\n",
      "\n",
      "\n",
      "\n",
      "\n",
      "\u001b[32mSampling  20%|██████▎                        |  ETA: 0:29:28\u001b[39m\n",
      "\u001b[34m  iteration:                 2\u001b[39m\n",
      "\u001b[34m  n_steps:                   5\u001b[39m\n",
      "\u001b[34m  is_accept:                 false\u001b[39m\n",
      "\u001b[34m  acceptance_rate:           0.5746537273897016\u001b[39m\n",
      "\u001b[34m  log_density:               28.992784723589796\u001b[39m\n",
      "\u001b[34m  hamiltonian_energy:        -18.35456643860141\u001b[39m\n",
      "\u001b[34m  hamiltonian_energy_error:  0.0\u001b[39m\n",
      "\u001b[34m  step_size:                 0.01\u001b[39m\n",
      "\u001b[34m  nom_step_size:             0.01\u001b[39m\n",
      "\u001b[A4m  mass_matrix:               UnitEuclideanMetric([1.0, 1.0, 1.0, 1.0, 1.0, 1 ...])\u001b[39m\n",
      "\n",
      "\n",
      "\n",
      "\n",
      "\n",
      "\n",
      "\n",
      "\n",
      "\n",
      "\u001b[32mSampling  30%|█████████▎                     |  ETA: 0:25:38\u001b[39m\n",
      "\u001b[34m  iteration:                 3\u001b[39m\n",
      "\u001b[34m  n_steps:                   5\u001b[39m\n",
      "\u001b[34m  is_accept:                 false\u001b[39m\n",
      "\u001b[34m  acceptance_rate:           0.24895246167140833\u001b[39m\n",
      "\u001b[34m  log_density:               28.992784723589796\u001b[39m\n",
      "\u001b[34m  hamiltonian_energy:        -16.972650430569708\u001b[39m\n",
      "\u001b[34m  hamiltonian_energy_error:  0.0\u001b[39m\n",
      "\u001b[34m  step_size:                 0.01\u001b[39m\n",
      "\u001b[34m  nom_step_size:             0.01\u001b[39m\n",
      "\u001b[A4m  mass_matrix:               UnitEuclideanMetric([1.0, 1.0, 1.0, 1.0, 1.0, 1 ...])\u001b[39m"
     ]
    }
   ],
   "source": [
    "kTps = [0, 0.5, 1, 5, 10];\n",
    "pyK = [4.1, 3.6, 5.3, 11.3, 11.6];\n",
    "samp = sample(test(kTps), HMC(0.01, 5), 10)"
   ]
  },
  {
   "cell_type": "code",
   "execution_count": null,
   "metadata": {},
   "outputs": [],
   "source": []
  }
 ],
 "metadata": {
  "kernelspec": {
   "display_name": "Julia 1.3.0",
   "language": "julia",
   "name": "julia-1.3"
  },
  "language_info": {
   "file_extension": ".jl",
   "mimetype": "application/julia",
   "name": "julia",
   "version": "1.3.0"
  }
 },
 "nbformat": 4,
 "nbformat_minor": 4
}
