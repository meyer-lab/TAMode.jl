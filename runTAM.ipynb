{
 "cells": [
  {
   "cell_type": "code",
   "execution_count": 1,
   "metadata": {},
   "outputs": [
    {
     "name": "stderr",
     "output_type": "stream",
     "text": [
      "┌ Info: Precompiling TAMode [294f26d0-a9c2-4f6a-959f-92a060cb6778]\n",
      "└ @ Base loading.jl:1273\n"
     ]
    },
    {
     "name": "stdout",
     "output_type": "stream",
     "text": [
      "\u001b[32m\u001b[1m  Updating\u001b[22m\u001b[39m registry at `~/.julia/registries/General`\n",
      "\u001b[32m\u001b[1m  Updating\u001b[22m\u001b[39m git-repo `https://github.com/JuliaRegistries/General.git`\n",
      "\u001b[2K\u001b[?25h[1mFetching:\u001b[22m\u001b[39m [========================================>]  100.0 %.0 %12.2 %>                              ]  24.4 %>                    ]  48.7 % [=========================>               ]  60.9 %73.0 %>     ]  85.2 %=======================================> ]  97.4 %\u001b[32m\u001b[1m Resolving\u001b[22m\u001b[39m package versions...\n",
      "\u001b[32m\u001b[1m Installed\u001b[22m\u001b[39m EllipsisNotation ──── v0.4.0\n",
      "\u001b[32m\u001b[1m Installed\u001b[22m\u001b[39m OpenBLAS_jll ──────── v0.3.7+5\n",
      "\u001b[32m\u001b[1m Installed\u001b[22m\u001b[39m IntervalSets ──────── v0.4.0\n",
      "\u001b[32m\u001b[1m Installed\u001b[22m\u001b[39m MCMCChains ────────── v1.0.2\n",
      "\u001b[32m\u001b[1m Installed\u001b[22m\u001b[39m NLSolversBase ─────── v7.6.0\n",
      "\u001b[32m\u001b[1m Installed\u001b[22m\u001b[39m NLsolve ───────────── v4.3.0\n",
      "\u001b[32m\u001b[1m Installed\u001b[22m\u001b[39m Optim ─────────────── v0.20.0\n",
      "\u001b[32m\u001b[1m Installed\u001b[22m\u001b[39m Interpolations ────── v0.12.8\n",
      "\u001b[32m\u001b[1m Installed\u001b[22m\u001b[39m IRTools ───────────── v0.3.1\n",
      "\u001b[32m\u001b[1m Installed\u001b[22m\u001b[39m SparseDiffTools ───── v1.3.3\n",
      "\u001b[32m\u001b[1m Installed\u001b[22m\u001b[39m OffsetArrays ──────── v1.0.2\n",
      "\u001b[32m\u001b[1m Installed\u001b[22m\u001b[39m RecursiveArrayTools ─ v2.0.4\n",
      "\u001b[32m\u001b[1m Installed\u001b[22m\u001b[39m FiniteDiff ────────── v2.1.0\n",
      "\u001b[32m\u001b[1m Installed\u001b[22m\u001b[39m Zygote ────────────── v0.4.7\n",
      "\u001b[32m\u001b[1m Installed\u001b[22m\u001b[39m PDMats ────────────── v0.9.11\n",
      "\u001b[32m\u001b[1m  Updating\u001b[22m\u001b[39m `~/TAMode.jl/Project.toml`\n",
      "\u001b[90m [no changes]\u001b[39m\n",
      "\u001b[32m\u001b[1m  Updating\u001b[22m\u001b[39m `~/TAMode.jl/Manifest.toml`\n",
      " \u001b[90m [39de3d68]\u001b[39m\u001b[95m ↓ AxisArrays v0.4.1 ⇒ v0.4.0\u001b[39m\n",
      " \u001b[90m [49dc2e85]\u001b[39m\u001b[91m - Calculus v0.5.1\u001b[39m\n",
      " \u001b[90m [da5c29d0]\u001b[39m\u001b[92m + EllipsisNotation v0.4.0\u001b[39m\n",
      " \u001b[90m [6a86dc24]\u001b[39m\u001b[92m + FiniteDiff v2.1.0\u001b[39m\n",
      " \u001b[90m [7869d1d1]\u001b[39m\u001b[93m ↑ IRTools v0.3.0 ⇒ v0.3.1\u001b[39m\n",
      " \u001b[90m [a98d9a8b]\u001b[39m\u001b[93m ↑ Interpolations v0.12.7 ⇒ v0.12.8\u001b[39m\n",
      " \u001b[90m [8197267c]\u001b[39m\u001b[93m ↑ IntervalSets v0.3.2 ⇒ v0.4.0\u001b[39m\n",
      " \u001b[90m [c7f686f2]\u001b[39m\u001b[93m ↑ MCMCChains v1.0.1 ⇒ v1.0.2\u001b[39m\n",
      " \u001b[90m [d41bc354]\u001b[39m\u001b[93m ↑ NLSolversBase v7.5.0 ⇒ v7.6.0\u001b[39m\n",
      " \u001b[90m [2774e3e8]\u001b[39m\u001b[93m ↑ NLsolve v4.2.0 ⇒ v4.3.0\u001b[39m\n",
      " \u001b[90m [6fe1bfb0]\u001b[39m\u001b[93m ↑ OffsetArrays v1.0.1 ⇒ v1.0.2\u001b[39m\n",
      " \u001b[90m [4536629a]\u001b[39m\u001b[93m ↑ OpenBLAS_jll v0.3.7+4 ⇒ v0.3.7+5\u001b[39m\n",
      " \u001b[90m [429524aa]\u001b[39m\u001b[93m ↑ Optim v0.19.7 ⇒ v0.20.0\u001b[39m\n",
      " \u001b[90m [90014a1f]\u001b[39m\u001b[93m ↑ PDMats v0.9.10 ⇒ v0.9.11\u001b[39m\n",
      " \u001b[90m [731186ca]\u001b[39m\u001b[93m ↑ RecursiveArrayTools v2.0.2 ⇒ v2.0.4\u001b[39m\n",
      " \u001b[90m [47a9eef4]\u001b[39m\u001b[93m ↑ SparseDiffTools v1.2.0 ⇒ v1.3.3\u001b[39m\n",
      " \u001b[90m [e88e6eb3]\u001b[39m\u001b[93m ↑ Zygote v0.4.6 ⇒ v0.4.7\u001b[39m\n"
     ]
    },
    {
     "name": "stderr",
     "output_type": "stream",
     "text": [
      "┌ Info: Precompiling Turing [fce5fe82-541a-59a6-adf8-730c64b5f9a0]\n",
      "└ @ Base loading.jl:1273\n",
      "┌ Warning: Module NLSolversBase with build ID 790563725366597 is missing from the cache.\n",
      "│ This may mean NLSolversBase [d41bc354-129a-5804-8e4c-c37616107c6c] does not support precompilation but is imported by a module that does.\n",
      "└ @ Base loading.jl:1011\n",
      "┌ Warning: Module NLSolversBase with build ID 790563725366597 is missing from the cache.\n",
      "│ This may mean NLSolversBase [d41bc354-129a-5804-8e4c-c37616107c6c] does not support precompilation but is imported by a module that does.\n",
      "└ @ Base loading.jl:1011\n",
      "┌ Warning: Module NLSolversBase with build ID 790563725366597 is missing from the cache.\n",
      "│ This may mean NLSolversBase [d41bc354-129a-5804-8e4c-c37616107c6c] does not support precompilation but is imported by a module that does.\n",
      "└ @ Base loading.jl:1011\n",
      "┌ Warning: Module NLSolversBase with build ID 790563725366597 is missing from the cache.\n",
      "│ This may mean NLSolversBase [d41bc354-129a-5804-8e4c-c37616107c6c] does not support precompilation but is imported by a module that does.\n",
      "└ @ Base loading.jl:1011\n",
      "┌ Warning: Module NLSolversBase with build ID 790563725366597 is missing from the cache.\n",
      "│ This may mean NLSolversBase [d41bc354-129a-5804-8e4c-c37616107c6c] does not support precompilation but is imported by a module that does.\n",
      "└ @ Base loading.jl:1011\n",
      "┌ Warning: Module NLSolversBase with build ID 790563725366597 is missing from the cache.\n",
      "│ This may mean NLSolversBase [d41bc354-129a-5804-8e4c-c37616107c6c] does not support precompilation but is imported by a module that does.\n",
      "└ @ Base loading.jl:1011\n",
      "┌ Warning: Module NLSolversBase with build ID 790563725366597 is missing from the cache.\n",
      "│ This may mean NLSolversBase [d41bc354-129a-5804-8e4c-c37616107c6c] does not support precompilation but is imported by a module that does.\n",
      "└ @ Base loading.jl:1011\n",
      "┌ Warning: Module NLSolversBase with build ID 790563725366597 is missing from the cache.\n",
      "│ This may mean NLSolversBase [d41bc354-129a-5804-8e4c-c37616107c6c] does not support precompilation but is imported by a module that does.\n",
      "└ @ Base loading.jl:1011\n",
      "┌ Info: Skipping precompilation since __precompile__(false). Importing Turing [fce5fe82-541a-59a6-adf8-730c64b5f9a0].\n",
      "└ @ Base loading.jl:1028\n",
      "┌ Info: Precompiling MCMCChains [c7f686f2-ff18-58e9-bc7b-31028e88f75d]\n",
      "└ @ Base loading.jl:1273\n",
      "┌ Warning: Module NLSolversBase with build ID 790563725366597 is missing from the cache.\n",
      "│ This may mean NLSolversBase [d41bc354-129a-5804-8e4c-c37616107c6c] does not support precompilation but is imported by a module that does.\n",
      "└ @ Base loading.jl:1011\n",
      "┌ Warning: Module NLSolversBase with build ID 790563725366597 is missing from the cache.\n",
      "│ This may mean NLSolversBase [d41bc354-129a-5804-8e4c-c37616107c6c] does not support precompilation but is imported by a module that does.\n",
      "└ @ Base loading.jl:1011\n",
      "┌ Warning: Module NLSolversBase with build ID 790563725366597 is missing from the cache.\n",
      "│ This may mean NLSolversBase [d41bc354-129a-5804-8e4c-c37616107c6c] does not support precompilation but is imported by a module that does.\n",
      "└ @ Base loading.jl:1011\n",
      "┌ Warning: Module NLSolversBase with build ID 790563725366597 is missing from the cache.\n",
      "│ This may mean NLSolversBase [d41bc354-129a-5804-8e4c-c37616107c6c] does not support precompilation but is imported by a module that does.\n",
      "└ @ Base loading.jl:1011\n",
      "┌ Info: Skipping precompilation since __precompile__(false). Importing MCMCChains [c7f686f2-ff18-58e9-bc7b-31028e88f75d].\n",
      "└ @ Base loading.jl:1028\n",
      "┌ Info: Precompiling KernelDensity [5ab0869b-81aa-558d-bb23-cbf5423bbe9b]\n",
      "└ @ Base loading.jl:1273\n",
      "┌ Warning: Module NLSolversBase with build ID 790563725366597 is missing from the cache.\n",
      "│ This may mean NLSolversBase [d41bc354-129a-5804-8e4c-c37616107c6c] does not support precompilation but is imported by a module that does.\n",
      "└ @ Base loading.jl:1011\n",
      "┌ Warning: Module NLSolversBase with build ID 790563725366597 is missing from the cache.\n",
      "│ This may mean NLSolversBase [d41bc354-129a-5804-8e4c-c37616107c6c] does not support precompilation but is imported by a module that does.\n",
      "└ @ Base loading.jl:1011\n",
      "┌ Info: Skipping precompilation since __precompile__(false). Importing KernelDensity [5ab0869b-81aa-558d-bb23-cbf5423bbe9b].\n",
      "└ @ Base loading.jl:1028\n",
      "┌ Info: Precompiling Optim [429524aa-4258-5aef-a3af-852621145aeb]\n",
      "└ @ Base loading.jl:1273\n",
      "┌ Warning: Module NLSolversBase with build ID 790563725366597 is missing from the cache.\n",
      "│ This may mean NLSolversBase [d41bc354-129a-5804-8e4c-c37616107c6c] does not support precompilation but is imported by a module that does.\n",
      "└ @ Base loading.jl:1011\n",
      "┌ Info: Skipping precompilation since __precompile__(false). Importing Optim [429524aa-4258-5aef-a3af-852621145aeb].\n",
      "└ @ Base loading.jl:1028\n",
      "┌ Info: Precompiling Interpolations [a98d9a8b-a2ab-59e6-89dd-64a1c18fca59]\n",
      "└ @ Base loading.jl:1273\n",
      "┌ Info: Precompiling AxisArrays [39de3d68-74b9-583c-8d2d-e117c070f3a9]\n",
      "└ @ Base loading.jl:1273\n",
      "┌ Info: Precompiling DynamicPPL [366bfd00-2699-11ea-058f-f148b4cae6d8]\n",
      "└ @ Base loading.jl:1273\n",
      "┌ Info: Precompiling DistributionsAD [ced4e74d-a319-5a8a-b0ac-84af2272839c]\n",
      "└ @ Base loading.jl:1273\n"
     ]
    }
   ],
   "source": [
    "using Pkg\n",
    "Pkg.instantiate()\n",
    "import TAMode\n",
    "Pkg.add(\"Turing\")\n",
    "using Turing"
   ]
  },
  {
   "cell_type": "code",
   "execution_count": 2,
   "metadata": {},
   "outputs": [
    {
     "data": {
      "text/plain": [
       "(::DynamicPPL.ModelGen{(:tps,),var\"###test#586\",NamedTuple{(),Tuple{}}}) (generic function with 1 method)"
      ]
     },
     "execution_count": 2,
     "metadata": {},
     "output_type": "execute_result"
    }
   ],
   "source": [
    "tpoints = [0.0, 1.0, 2.0, 3.0, 4.0, 5.0, 6.0, 7.0, 8.0, 9.0, 10.0];\n",
    "\n",
    "@model test(tps) = begin\n",
    "    params = ones(15) * 0.5;\n",
    "    for i = 1:15 \n",
    "        params[i] ~ Beta()\n",
    "    end\n",
    "    data = TAMode.runTAM(tps, params, 10.0)\n",
    "end\n",
    "\n"
   ]
  },
  {
   "cell_type": "code",
   "execution_count": 3,
   "metadata": {},
   "outputs": [
    {
     "ename": "TypeError",
     "evalue": "TypeError: in typeassert, expected Float64, got ForwardDiff.Dual{Nothing,Float64,8}",
     "output_type": "error",
     "traceback": [
      "TypeError: in typeassert, expected Float64, got ForwardDiff.Dual{Nothing,Float64,8}",
      "",
      "Stacktrace:",
      " [1] setindex!(::Array{Float64,1}, ::ForwardDiff.Dual{ForwardDiff.Tag{Turing.Core.var\"#f#7\"{DynamicPPL.VarInfo{NamedTuple{(:params,),Tuple{DynamicPPL.Metadata{Dict{DynamicPPL.VarName{:params},Int64},Array{Beta{Float64},1},Array{DynamicPPL.VarName{:params},1},Array{Float64,1},Array{Set{DynamicPPL.Selector},1}}}},Float64},DynamicPPL.Model{var\"##inner_function#578#4\",NamedTuple{(:tps,),Tuple{Array{Float64,1}}},DynamicPPL.ModelGen{(:tps,),var\"###test#586\",NamedTuple{(),Tuple{}}},Val{()}},DynamicPPL.Sampler{HMC{Turing.Core.ForwardDiffAD{40},(),AdvancedHMC.Adaptation.UnitEuclideanMetric},Turing.Inference.SamplerState{DynamicPPL.VarInfo{NamedTuple{(:params,),Tuple{DynamicPPL.Metadata{Dict{DynamicPPL.VarName{:params},Int64},Array{Beta{Float64},1},Array{DynamicPPL.VarName{:params},1},Array{Float64,1},Array{Set{DynamicPPL.Selector},1}}}},Float64}}}},Float64},Float64,8}, ::Int64) at ./array.jl:782",
      " [2] (::var\"##inner_function#578#4\")(::DynamicPPL.VarInfo{NamedTuple{(:params,),Tuple{DynamicPPL.Metadata{Dict{DynamicPPL.VarName{:params},Int64},Array{Beta{Float64},1},Array{DynamicPPL.VarName{:params},1},Array{ForwardDiff.Dual{ForwardDiff.Tag{Turing.Core.var\"#f#7\"{DynamicPPL.VarInfo{NamedTuple{(:params,),Tuple{DynamicPPL.Metadata{Dict{DynamicPPL.VarName{:params},Int64},Array{Beta{Float64},1},Array{DynamicPPL.VarName{:params},1},Array{Float64,1},Array{Set{DynamicPPL.Selector},1}}}},Float64},DynamicPPL.Model{var\"##inner_function#578#4\",NamedTuple{(:tps,),Tuple{Array{Float64,1}}},DynamicPPL.ModelGen{(:tps,),var\"###test#586\",NamedTuple{(),Tuple{}}},Val{()}},DynamicPPL.Sampler{HMC{Turing.Core.ForwardDiffAD{40},(),AdvancedHMC.Adaptation.UnitEuclideanMetric},Turing.Inference.SamplerState{DynamicPPL.VarInfo{NamedTuple{(:params,),Tuple{DynamicPPL.Metadata{Dict{DynamicPPL.VarName{:params},Int64},Array{Beta{Float64},1},Array{DynamicPPL.VarName{:params},1},Array{Float64,1},Array{Set{DynamicPPL.Selector},1}}}},Float64}}}},Float64},Float64,8},1},Array{Set{DynamicPPL.Selector},1}}}},ForwardDiff.Dual{ForwardDiff.Tag{Turing.Core.var\"#f#7\"{DynamicPPL.VarInfo{NamedTuple{(:params,),Tuple{DynamicPPL.Metadata{Dict{DynamicPPL.VarName{:params},Int64},Array{Beta{Float64},1},Array{DynamicPPL.VarName{:params},1},Array{Float64,1},Array{Set{DynamicPPL.Selector},1}}}},Float64},DynamicPPL.Model{var\"##inner_function#578#4\",NamedTuple{(:tps,),Tuple{Array{Float64,1}}},DynamicPPL.ModelGen{(:tps,),var\"###test#586\",NamedTuple{(),Tuple{}}},Val{()}},DynamicPPL.Sampler{HMC{Turing.Core.ForwardDiffAD{40},(),AdvancedHMC.Adaptation.UnitEuclideanMetric},Turing.Inference.SamplerState{DynamicPPL.VarInfo{NamedTuple{(:params,),Tuple{DynamicPPL.Metadata{Dict{DynamicPPL.VarName{:params},Int64},Array{Beta{Float64},1},Array{DynamicPPL.VarName{:params},1},Array{Float64,1},Array{Set{DynamicPPL.Selector},1}}}},Float64}}}},Float64},Float64,8}}, ::DynamicPPL.Sampler{HMC{Turing.Core.ForwardDiffAD{40},(),AdvancedHMC.Adaptation.UnitEuclideanMetric},Turing.Inference.SamplerState{DynamicPPL.VarInfo{NamedTuple{(:params,),Tuple{DynamicPPL.Metadata{Dict{DynamicPPL.VarName{:params},Int64},Array{Beta{Float64},1},Array{DynamicPPL.VarName{:params},1},Array{Float64,1},Array{Set{DynamicPPL.Selector},1}}}},Float64}}}, ::DynamicPPL.DefaultContext, ::DynamicPPL.Model{var\"##inner_function#578#4\",NamedTuple{(:tps,),Tuple{Array{Float64,1}}},DynamicPPL.ModelGen{(:tps,),var\"###test#586\",NamedTuple{(),Tuple{}}},Val{()}}) at /home/sumedhak/.julia/packages/DynamicPPL/nsoCZ/src/compiler.jl:458",
      " [3] #_#3(::Base.Iterators.Pairs{Union{},Union{},Tuple{},NamedTuple{(),Tuple{}}}, ::DynamicPPL.Model{var\"##inner_function#578#4\",NamedTuple{(:tps,),Tuple{Array{Float64,1}}},DynamicPPL.ModelGen{(:tps,),var\"###test#586\",NamedTuple{(),Tuple{}}},Val{()}}, ::DynamicPPL.VarInfo{NamedTuple{(:params,),Tuple{DynamicPPL.Metadata{Dict{DynamicPPL.VarName{:params},Int64},Array{Beta{Float64},1},Array{DynamicPPL.VarName{:params},1},Array{ForwardDiff.Dual{ForwardDiff.Tag{Turing.Core.var\"#f#7\"{DynamicPPL.VarInfo{NamedTuple{(:params,),Tuple{DynamicPPL.Metadata{Dict{DynamicPPL.VarName{:params},Int64},Array{Beta{Float64},1},Array{DynamicPPL.VarName{:params},1},Array{Float64,1},Array{Set{DynamicPPL.Selector},1}}}},Float64},DynamicPPL.Model{var\"##inner_function#578#4\",NamedTuple{(:tps,),Tuple{Array{Float64,1}}},DynamicPPL.ModelGen{(:tps,),var\"###test#586\",NamedTuple{(),Tuple{}}},Val{()}},DynamicPPL.Sampler{HMC{Turing.Core.ForwardDiffAD{40},(),AdvancedHMC.Adaptation.UnitEuclideanMetric},Turing.Inference.SamplerState{DynamicPPL.VarInfo{NamedTuple{(:params,),Tuple{DynamicPPL.Metadata{Dict{DynamicPPL.VarName{:params},Int64},Array{Beta{Float64},1},Array{DynamicPPL.VarName{:params},1},Array{Float64,1},Array{Set{DynamicPPL.Selector},1}}}},Float64}}}},Float64},Float64,8},1},Array{Set{DynamicPPL.Selector},1}}}},ForwardDiff.Dual{ForwardDiff.Tag{Turing.Core.var\"#f#7\"{DynamicPPL.VarInfo{NamedTuple{(:params,),Tuple{DynamicPPL.Metadata{Dict{DynamicPPL.VarName{:params},Int64},Array{Beta{Float64},1},Array{DynamicPPL.VarName{:params},1},Array{Float64,1},Array{Set{DynamicPPL.Selector},1}}}},Float64},DynamicPPL.Model{var\"##inner_function#578#4\",NamedTuple{(:tps,),Tuple{Array{Float64,1}}},DynamicPPL.ModelGen{(:tps,),var\"###test#586\",NamedTuple{(),Tuple{}}},Val{()}},DynamicPPL.Sampler{HMC{Turing.Core.ForwardDiffAD{40},(),AdvancedHMC.Adaptation.UnitEuclideanMetric},Turing.Inference.SamplerState{DynamicPPL.VarInfo{NamedTuple{(:params,),Tuple{DynamicPPL.Metadata{Dict{DynamicPPL.VarName{:params},Int64},Array{Beta{Float64},1},Array{DynamicPPL.VarName{:params},1},Array{Float64,1},Array{Set{DynamicPPL.Selector},1}}}},Float64}}}},Float64},Float64,8}}, ::Vararg{Any,N} where N) at /home/sumedhak/.julia/packages/DynamicPPL/nsoCZ/src/model.jl:24",
      " [4] (::DynamicPPL.Model{var\"##inner_function#578#4\",NamedTuple{(:tps,),Tuple{Array{Float64,1}}},DynamicPPL.ModelGen{(:tps,),var\"###test#586\",NamedTuple{(),Tuple{}}},Val{()}})(::DynamicPPL.VarInfo{NamedTuple{(:params,),Tuple{DynamicPPL.Metadata{Dict{DynamicPPL.VarName{:params},Int64},Array{Beta{Float64},1},Array{DynamicPPL.VarName{:params},1},Array{ForwardDiff.Dual{ForwardDiff.Tag{Turing.Core.var\"#f#7\"{DynamicPPL.VarInfo{NamedTuple{(:params,),Tuple{DynamicPPL.Metadata{Dict{DynamicPPL.VarName{:params},Int64},Array{Beta{Float64},1},Array{DynamicPPL.VarName{:params},1},Array{Float64,1},Array{Set{DynamicPPL.Selector},1}}}},Float64},DynamicPPL.Model{var\"##inner_function#578#4\",NamedTuple{(:tps,),Tuple{Array{Float64,1}}},DynamicPPL.ModelGen{(:tps,),var\"###test#586\",NamedTuple{(),Tuple{}}},Val{()}},DynamicPPL.Sampler{HMC{Turing.Core.ForwardDiffAD{40},(),AdvancedHMC.Adaptation.UnitEuclideanMetric},Turing.Inference.SamplerState{DynamicPPL.VarInfo{NamedTuple{(:params,),Tuple{DynamicPPL.Metadata{Dict{DynamicPPL.VarName{:params},Int64},Array{Beta{Float64},1},Array{DynamicPPL.VarName{:params},1},Array{Float64,1},Array{Set{DynamicPPL.Selector},1}}}},Float64}}}},Float64},Float64,8},1},Array{Set{DynamicPPL.Selector},1}}}},ForwardDiff.Dual{ForwardDiff.Tag{Turing.Core.var\"#f#7\"{DynamicPPL.VarInfo{NamedTuple{(:params,),Tuple{DynamicPPL.Metadata{Dict{DynamicPPL.VarName{:params},Int64},Array{Beta{Float64},1},Array{DynamicPPL.VarName{:params},1},Array{Float64,1},Array{Set{DynamicPPL.Selector},1}}}},Float64},DynamicPPL.Model{var\"##inner_function#578#4\",NamedTuple{(:tps,),Tuple{Array{Float64,1}}},DynamicPPL.ModelGen{(:tps,),var\"###test#586\",NamedTuple{(),Tuple{}}},Val{()}},DynamicPPL.Sampler{HMC{Turing.Core.ForwardDiffAD{40},(),AdvancedHMC.Adaptation.UnitEuclideanMetric},Turing.Inference.SamplerState{DynamicPPL.VarInfo{NamedTuple{(:params,),Tuple{DynamicPPL.Metadata{Dict{DynamicPPL.VarName{:params},Int64},Array{Beta{Float64},1},Array{DynamicPPL.VarName{:params},1},Array{Float64,1},Array{Set{DynamicPPL.Selector},1}}}},Float64}}}},Float64},Float64,8}}, ::Vararg{Any,N} where N) at /home/sumedhak/.julia/packages/DynamicPPL/nsoCZ/src/model.jl:24",
      " [5] runmodel!(::DynamicPPL.Model{var\"##inner_function#578#4\",NamedTuple{(:tps,),Tuple{Array{Float64,1}}},DynamicPPL.ModelGen{(:tps,),var\"###test#586\",NamedTuple{(),Tuple{}}},Val{()}}, ::DynamicPPL.VarInfo{NamedTuple{(:params,),Tuple{DynamicPPL.Metadata{Dict{DynamicPPL.VarName{:params},Int64},Array{Beta{Float64},1},Array{DynamicPPL.VarName{:params},1},Array{ForwardDiff.Dual{ForwardDiff.Tag{Turing.Core.var\"#f#7\"{DynamicPPL.VarInfo{NamedTuple{(:params,),Tuple{DynamicPPL.Metadata{Dict{DynamicPPL.VarName{:params},Int64},Array{Beta{Float64},1},Array{DynamicPPL.VarName{:params},1},Array{Float64,1},Array{Set{DynamicPPL.Selector},1}}}},Float64},DynamicPPL.Model{var\"##inner_function#578#4\",NamedTuple{(:tps,),Tuple{Array{Float64,1}}},DynamicPPL.ModelGen{(:tps,),var\"###test#586\",NamedTuple{(),Tuple{}}},Val{()}},DynamicPPL.Sampler{HMC{Turing.Core.ForwardDiffAD{40},(),AdvancedHMC.Adaptation.UnitEuclideanMetric},Turing.Inference.SamplerState{DynamicPPL.VarInfo{NamedTuple{(:params,),Tuple{DynamicPPL.Metadata{Dict{DynamicPPL.VarName{:params},Int64},Array{Beta{Float64},1},Array{DynamicPPL.VarName{:params},1},Array{Float64,1},Array{Set{DynamicPPL.Selector},1}}}},Float64}}}},Float64},Float64,8},1},Array{Set{DynamicPPL.Selector},1}}}},ForwardDiff.Dual{ForwardDiff.Tag{Turing.Core.var\"#f#7\"{DynamicPPL.VarInfo{NamedTuple{(:params,),Tuple{DynamicPPL.Metadata{Dict{DynamicPPL.VarName{:params},Int64},Array{Beta{Float64},1},Array{DynamicPPL.VarName{:params},1},Array{Float64,1},Array{Set{DynamicPPL.Selector},1}}}},Float64},DynamicPPL.Model{var\"##inner_function#578#4\",NamedTuple{(:tps,),Tuple{Array{Float64,1}}},DynamicPPL.ModelGen{(:tps,),var\"###test#586\",NamedTuple{(),Tuple{}}},Val{()}},DynamicPPL.Sampler{HMC{Turing.Core.ForwardDiffAD{40},(),AdvancedHMC.Adaptation.UnitEuclideanMetric},Turing.Inference.SamplerState{DynamicPPL.VarInfo{NamedTuple{(:params,),Tuple{DynamicPPL.Metadata{Dict{DynamicPPL.VarName{:params},Int64},Array{Beta{Float64},1},Array{DynamicPPL.VarName{:params},1},Array{Float64,1},Array{Set{DynamicPPL.Selector},1}}}},Float64}}}},Float64},Float64,8}}, ::DynamicPPL.Sampler{HMC{Turing.Core.ForwardDiffAD{40},(),AdvancedHMC.Adaptation.UnitEuclideanMetric},Turing.Inference.SamplerState{DynamicPPL.VarInfo{NamedTuple{(:params,),Tuple{DynamicPPL.Metadata{Dict{DynamicPPL.VarName{:params},Int64},Array{Beta{Float64},1},Array{DynamicPPL.VarName{:params},1},Array{Float64,1},Array{Set{DynamicPPL.Selector},1}}}},Float64}}}, ::DynamicPPL.DefaultContext) at /home/sumedhak/.julia/packages/DynamicPPL/nsoCZ/src/varinfo.jl:602",
      " [6] runmodel!(::DynamicPPL.Model{var\"##inner_function#578#4\",NamedTuple{(:tps,),Tuple{Array{Float64,1}}},DynamicPPL.ModelGen{(:tps,),var\"###test#586\",NamedTuple{(),Tuple{}}},Val{()}}, ::DynamicPPL.VarInfo{NamedTuple{(:params,),Tuple{DynamicPPL.Metadata{Dict{DynamicPPL.VarName{:params},Int64},Array{Beta{Float64},1},Array{DynamicPPL.VarName{:params},1},Array{ForwardDiff.Dual{ForwardDiff.Tag{Turing.Core.var\"#f#7\"{DynamicPPL.VarInfo{NamedTuple{(:params,),Tuple{DynamicPPL.Metadata{Dict{DynamicPPL.VarName{:params},Int64},Array{Beta{Float64},1},Array{DynamicPPL.VarName{:params},1},Array{Float64,1},Array{Set{DynamicPPL.Selector},1}}}},Float64},DynamicPPL.Model{var\"##inner_function#578#4\",NamedTuple{(:tps,),Tuple{Array{Float64,1}}},DynamicPPL.ModelGen{(:tps,),var\"###test#586\",NamedTuple{(),Tuple{}}},Val{()}},DynamicPPL.Sampler{HMC{Turing.Core.ForwardDiffAD{40},(),AdvancedHMC.Adaptation.UnitEuclideanMetric},Turing.Inference.SamplerState{DynamicPPL.VarInfo{NamedTuple{(:params,),Tuple{DynamicPPL.Metadata{Dict{DynamicPPL.VarName{:params},Int64},Array{Beta{Float64},1},Array{DynamicPPL.VarName{:params},1},Array{Float64,1},Array{Set{DynamicPPL.Selector},1}}}},Float64}}}},Float64},Float64,8},1},Array{Set{DynamicPPL.Selector},1}}}},ForwardDiff.Dual{ForwardDiff.Tag{Turing.Core.var\"#f#7\"{DynamicPPL.VarInfo{NamedTuple{(:params,),Tuple{DynamicPPL.Metadata{Dict{DynamicPPL.VarName{:params},Int64},Array{Beta{Float64},1},Array{DynamicPPL.VarName{:params},1},Array{Float64,1},Array{Set{DynamicPPL.Selector},1}}}},Float64},DynamicPPL.Model{var\"##inner_function#578#4\",NamedTuple{(:tps,),Tuple{Array{Float64,1}}},DynamicPPL.ModelGen{(:tps,),var\"###test#586\",NamedTuple{(),Tuple{}}},Val{()}},DynamicPPL.Sampler{HMC{Turing.Core.ForwardDiffAD{40},(),AdvancedHMC.Adaptation.UnitEuclideanMetric},Turing.Inference.SamplerState{DynamicPPL.VarInfo{NamedTuple{(:params,),Tuple{DynamicPPL.Metadata{Dict{DynamicPPL.VarName{:params},Int64},Array{Beta{Float64},1},Array{DynamicPPL.VarName{:params},1},Array{Float64,1},Array{Set{DynamicPPL.Selector},1}}}},Float64}}}},Float64},Float64,8}}, ::DynamicPPL.Sampler{HMC{Turing.Core.ForwardDiffAD{40},(),AdvancedHMC.Adaptation.UnitEuclideanMetric},Turing.Inference.SamplerState{DynamicPPL.VarInfo{NamedTuple{(:params,),Tuple{DynamicPPL.Metadata{Dict{DynamicPPL.VarName{:params},Int64},Array{Beta{Float64},1},Array{DynamicPPL.VarName{:params},1},Array{Float64,1},Array{Set{DynamicPPL.Selector},1}}}},Float64}}}) at /home/sumedhak/.julia/packages/DynamicPPL/nsoCZ/src/varinfo.jl:598",
      " [7] (::Turing.Core.var\"#f#7\"{DynamicPPL.VarInfo{NamedTuple{(:params,),Tuple{DynamicPPL.Metadata{Dict{DynamicPPL.VarName{:params},Int64},Array{Beta{Float64},1},Array{DynamicPPL.VarName{:params},1},Array{Float64,1},Array{Set{DynamicPPL.Selector},1}}}},Float64},DynamicPPL.Model{var\"##inner_function#578#4\",NamedTuple{(:tps,),Tuple{Array{Float64,1}}},DynamicPPL.ModelGen{(:tps,),var\"###test#586\",NamedTuple{(),Tuple{}}},Val{()}},DynamicPPL.Sampler{HMC{Turing.Core.ForwardDiffAD{40},(),AdvancedHMC.Adaptation.UnitEuclideanMetric},Turing.Inference.SamplerState{DynamicPPL.VarInfo{NamedTuple{(:params,),Tuple{DynamicPPL.Metadata{Dict{DynamicPPL.VarName{:params},Int64},Array{Beta{Float64},1},Array{DynamicPPL.VarName{:params},1},Array{Float64,1},Array{Set{DynamicPPL.Selector},1}}}},Float64}}}})(::Array{ForwardDiff.Dual{ForwardDiff.Tag{Turing.Core.var\"#f#7\"{DynamicPPL.VarInfo{NamedTuple{(:params,),Tuple{DynamicPPL.Metadata{Dict{DynamicPPL.VarName{:params},Int64},Array{Beta{Float64},1},Array{DynamicPPL.VarName{:params},1},Array{Float64,1},Array{Set{DynamicPPL.Selector},1}}}},Float64},DynamicPPL.Model{var\"##inner_function#578#4\",NamedTuple{(:tps,),Tuple{Array{Float64,1}}},DynamicPPL.ModelGen{(:tps,),var\"###test#586\",NamedTuple{(),Tuple{}}},Val{()}},DynamicPPL.Sampler{HMC{Turing.Core.ForwardDiffAD{40},(),AdvancedHMC.Adaptation.UnitEuclideanMetric},Turing.Inference.SamplerState{DynamicPPL.VarInfo{NamedTuple{(:params,),Tuple{DynamicPPL.Metadata{Dict{DynamicPPL.VarName{:params},Int64},Array{Beta{Float64},1},Array{DynamicPPL.VarName{:params},1},Array{Float64,1},Array{Set{DynamicPPL.Selector},1}}}},Float64}}}},Float64},Float64,8},1}) at /home/sumedhak/.julia/packages/Turing/vg86q/src/core/ad.jl:95",
      " [8] chunk_mode_gradient!(::Array{Float64,1}, ::Turing.Core.var\"#f#7\"{DynamicPPL.VarInfo{NamedTuple{(:params,),Tuple{DynamicPPL.Metadata{Dict{DynamicPPL.VarName{:params},Int64},Array{Beta{Float64},1},Array{DynamicPPL.VarName{:params},1},Array{Float64,1},Array{Set{DynamicPPL.Selector},1}}}},Float64},DynamicPPL.Model{var\"##inner_function#578#4\",NamedTuple{(:tps,),Tuple{Array{Float64,1}}},DynamicPPL.ModelGen{(:tps,),var\"###test#586\",NamedTuple{(),Tuple{}}},Val{()}},DynamicPPL.Sampler{HMC{Turing.Core.ForwardDiffAD{40},(),AdvancedHMC.Adaptation.UnitEuclideanMetric},Turing.Inference.SamplerState{DynamicPPL.VarInfo{NamedTuple{(:params,),Tuple{DynamicPPL.Metadata{Dict{DynamicPPL.VarName{:params},Int64},Array{Beta{Float64},1},Array{DynamicPPL.VarName{:params},1},Array{Float64,1},Array{Set{DynamicPPL.Selector},1}}}},Float64}}}}, ::Array{Float64,1}, ::ForwardDiff.GradientConfig{ForwardDiff.Tag{Turing.Core.var\"#f#7\"{DynamicPPL.VarInfo{NamedTuple{(:params,),Tuple{DynamicPPL.Metadata{Dict{DynamicPPL.VarName{:params},Int64},Array{Beta{Float64},1},Array{DynamicPPL.VarName{:params},1},Array{Float64,1},Array{Set{DynamicPPL.Selector},1}}}},Float64},DynamicPPL.Model{var\"##inner_function#578#4\",NamedTuple{(:tps,),Tuple{Array{Float64,1}}},DynamicPPL.ModelGen{(:tps,),var\"###test#586\",NamedTuple{(),Tuple{}}},Val{()}},DynamicPPL.Sampler{HMC{Turing.Core.ForwardDiffAD{40},(),AdvancedHMC.Adaptation.UnitEuclideanMetric},Turing.Inference.SamplerState{DynamicPPL.VarInfo{NamedTuple{(:params,),Tuple{DynamicPPL.Metadata{Dict{DynamicPPL.VarName{:params},Int64},Array{Beta{Float64},1},Array{DynamicPPL.VarName{:params},1},Array{Float64,1},Array{Set{DynamicPPL.Selector},1}}}},Float64}}}},Float64},Float64,8,Array{ForwardDiff.Dual{ForwardDiff.Tag{Turing.Core.var\"#f#7\"{DynamicPPL.VarInfo{NamedTuple{(:params,),Tuple{DynamicPPL.Metadata{Dict{DynamicPPL.VarName{:params},Int64},Array{Beta{Float64},1},Array{DynamicPPL.VarName{:params},1},Array{Float64,1},Array{Set{DynamicPPL.Selector},1}}}},Float64},DynamicPPL.Model{var\"##inner_function#578#4\",NamedTuple{(:tps,),Tuple{Array{Float64,1}}},DynamicPPL.ModelGen{(:tps,),var\"###test#586\",NamedTuple{(),Tuple{}}},Val{()}},DynamicPPL.Sampler{HMC{Turing.Core.ForwardDiffAD{40},(),AdvancedHMC.Adaptation.UnitEuclideanMetric},Turing.Inference.SamplerState{DynamicPPL.VarInfo{NamedTuple{(:params,),Tuple{DynamicPPL.Metadata{Dict{DynamicPPL.VarName{:params},Int64},Array{Beta{Float64},1},Array{DynamicPPL.VarName{:params},1},Array{Float64,1},Array{Set{DynamicPPL.Selector},1}}}},Float64}}}},Float64},Float64,8},1}}) at /home/sumedhak/.julia/packages/ForwardDiff/vt5F1/src/gradient.jl:140",
      " [9] gradient!(::Array{Float64,1}, ::Turing.Core.var\"#f#7\"{DynamicPPL.VarInfo{NamedTuple{(:params,),Tuple{DynamicPPL.Metadata{Dict{DynamicPPL.VarName{:params},Int64},Array{Beta{Float64},1},Array{DynamicPPL.VarName{:params},1},Array{Float64,1},Array{Set{DynamicPPL.Selector},1}}}},Float64},DynamicPPL.Model{var\"##inner_function#578#4\",NamedTuple{(:tps,),Tuple{Array{Float64,1}}},DynamicPPL.ModelGen{(:tps,),var\"###test#586\",NamedTuple{(),Tuple{}}},Val{()}},DynamicPPL.Sampler{HMC{Turing.Core.ForwardDiffAD{40},(),AdvancedHMC.Adaptation.UnitEuclideanMetric},Turing.Inference.SamplerState{DynamicPPL.VarInfo{NamedTuple{(:params,),Tuple{DynamicPPL.Metadata{Dict{DynamicPPL.VarName{:params},Int64},Array{Beta{Float64},1},Array{DynamicPPL.VarName{:params},1},Array{Float64,1},Array{Set{DynamicPPL.Selector},1}}}},Float64}}}}, ::Array{Float64,1}, ::ForwardDiff.GradientConfig{ForwardDiff.Tag{Turing.Core.var\"#f#7\"{DynamicPPL.VarInfo{NamedTuple{(:params,),Tuple{DynamicPPL.Metadata{Dict{DynamicPPL.VarName{:params},Int64},Array{Beta{Float64},1},Array{DynamicPPL.VarName{:params},1},Array{Float64,1},Array{Set{DynamicPPL.Selector},1}}}},Float64},DynamicPPL.Model{var\"##inner_function#578#4\",NamedTuple{(:tps,),Tuple{Array{Float64,1}}},DynamicPPL.ModelGen{(:tps,),var\"###test#586\",NamedTuple{(),Tuple{}}},Val{()}},DynamicPPL.Sampler{HMC{Turing.Core.ForwardDiffAD{40},(),AdvancedHMC.Adaptation.UnitEuclideanMetric},Turing.Inference.SamplerState{DynamicPPL.VarInfo{NamedTuple{(:params,),Tuple{DynamicPPL.Metadata{Dict{DynamicPPL.VarName{:params},Int64},Array{Beta{Float64},1},Array{DynamicPPL.VarName{:params},1},Array{Float64,1},Array{Set{DynamicPPL.Selector},1}}}},Float64}}}},Float64},Float64,8,Array{ForwardDiff.Dual{ForwardDiff.Tag{Turing.Core.var\"#f#7\"{DynamicPPL.VarInfo{NamedTuple{(:params,),Tuple{DynamicPPL.Metadata{Dict{DynamicPPL.VarName{:params},Int64},Array{Beta{Float64},1},Array{DynamicPPL.VarName{:params},1},Array{Float64,1},Array{Set{DynamicPPL.Selector},1}}}},Float64},DynamicPPL.Model{var\"##inner_function#578#4\",NamedTuple{(:tps,),Tuple{Array{Float64,1}}},DynamicPPL.ModelGen{(:tps,),var\"###test#586\",NamedTuple{(),Tuple{}}},Val{()}},DynamicPPL.Sampler{HMC{Turing.Core.ForwardDiffAD{40},(),AdvancedHMC.Adaptation.UnitEuclideanMetric},Turing.Inference.SamplerState{DynamicPPL.VarInfo{NamedTuple{(:params,),Tuple{DynamicPPL.Metadata{Dict{DynamicPPL.VarName{:params},Int64},Array{Beta{Float64},1},Array{DynamicPPL.VarName{:params},1},Array{Float64,1},Array{Set{DynamicPPL.Selector},1}}}},Float64}}}},Float64},Float64,8},1}}, ::Val{true}) at /home/sumedhak/.julia/packages/ForwardDiff/vt5F1/src/gradient.jl:37",
      " [10] gradient!(::Array{Float64,1}, ::Turing.Core.var\"#f#7\"{DynamicPPL.VarInfo{NamedTuple{(:params,),Tuple{DynamicPPL.Metadata{Dict{DynamicPPL.VarName{:params},Int64},Array{Beta{Float64},1},Array{DynamicPPL.VarName{:params},1},Array{Float64,1},Array{Set{DynamicPPL.Selector},1}}}},Float64},DynamicPPL.Model{var\"##inner_function#578#4\",NamedTuple{(:tps,),Tuple{Array{Float64,1}}},DynamicPPL.ModelGen{(:tps,),var\"###test#586\",NamedTuple{(),Tuple{}}},Val{()}},DynamicPPL.Sampler{HMC{Turing.Core.ForwardDiffAD{40},(),AdvancedHMC.Adaptation.UnitEuclideanMetric},Turing.Inference.SamplerState{DynamicPPL.VarInfo{NamedTuple{(:params,),Tuple{DynamicPPL.Metadata{Dict{DynamicPPL.VarName{:params},Int64},Array{Beta{Float64},1},Array{DynamicPPL.VarName{:params},1},Array{Float64,1},Array{Set{DynamicPPL.Selector},1}}}},Float64}}}}, ::Array{Float64,1}, ::ForwardDiff.GradientConfig{ForwardDiff.Tag{Turing.Core.var\"#f#7\"{DynamicPPL.VarInfo{NamedTuple{(:params,),Tuple{DynamicPPL.Metadata{Dict{DynamicPPL.VarName{:params},Int64},Array{Beta{Float64},1},Array{DynamicPPL.VarName{:params},1},Array{Float64,1},Array{Set{DynamicPPL.Selector},1}}}},Float64},DynamicPPL.Model{var\"##inner_function#578#4\",NamedTuple{(:tps,),Tuple{Array{Float64,1}}},DynamicPPL.ModelGen{(:tps,),var\"###test#586\",NamedTuple{(),Tuple{}}},Val{()}},DynamicPPL.Sampler{HMC{Turing.Core.ForwardDiffAD{40},(),AdvancedHMC.Adaptation.UnitEuclideanMetric},Turing.Inference.SamplerState{DynamicPPL.VarInfo{NamedTuple{(:params,),Tuple{DynamicPPL.Metadata{Dict{DynamicPPL.VarName{:params},Int64},Array{Beta{Float64},1},Array{DynamicPPL.VarName{:params},1},Array{Float64,1},Array{Set{DynamicPPL.Selector},1}}}},Float64}}}},Float64},Float64,8,Array{ForwardDiff.Dual{ForwardDiff.Tag{Turing.Core.var\"#f#7\"{DynamicPPL.VarInfo{NamedTuple{(:params,),Tuple{DynamicPPL.Metadata{Dict{DynamicPPL.VarName{:params},Int64},Array{Beta{Float64},1},Array{DynamicPPL.VarName{:params},1},Array{Float64,1},Array{Set{DynamicPPL.Selector},1}}}},Float64},DynamicPPL.Model{var\"##inner_function#578#4\",NamedTuple{(:tps,),Tuple{Array{Float64,1}}},DynamicPPL.ModelGen{(:tps,),var\"###test#586\",NamedTuple{(),Tuple{}}},Val{()}},DynamicPPL.Sampler{HMC{Turing.Core.ForwardDiffAD{40},(),AdvancedHMC.Adaptation.UnitEuclideanMetric},Turing.Inference.SamplerState{DynamicPPL.VarInfo{NamedTuple{(:params,),Tuple{DynamicPPL.Metadata{Dict{DynamicPPL.VarName{:params},Int64},Array{Beta{Float64},1},Array{DynamicPPL.VarName{:params},1},Array{Float64,1},Array{Set{DynamicPPL.Selector},1}}}},Float64}}}},Float64},Float64,8},1}}) at /home/sumedhak/.julia/packages/ForwardDiff/vt5F1/src/gradient.jl:33",
      " [11] gradient_logp_forward(::Array{Float64,1}, ::DynamicPPL.VarInfo{NamedTuple{(:params,),Tuple{DynamicPPL.Metadata{Dict{DynamicPPL.VarName{:params},Int64},Array{Beta{Float64},1},Array{DynamicPPL.VarName{:params},1},Array{Float64,1},Array{Set{DynamicPPL.Selector},1}}}},Float64}, ::DynamicPPL.Model{var\"##inner_function#578#4\",NamedTuple{(:tps,),Tuple{Array{Float64,1}}},DynamicPPL.ModelGen{(:tps,),var\"###test#586\",NamedTuple{(),Tuple{}}},Val{()}}, ::DynamicPPL.Sampler{HMC{Turing.Core.ForwardDiffAD{40},(),AdvancedHMC.Adaptation.UnitEuclideanMetric},Turing.Inference.SamplerState{DynamicPPL.VarInfo{NamedTuple{(:params,),Tuple{DynamicPPL.Metadata{Dict{DynamicPPL.VarName{:params},Int64},Array{Beta{Float64},1},Array{DynamicPPL.VarName{:params},1},Array{Float64,1},Array{Set{DynamicPPL.Selector},1}}}},Float64}}}) at /home/sumedhak/.julia/packages/Turing/vg86q/src/core/ad.jl:104",
      " [12] gradient_logp at /home/sumedhak/.julia/packages/Turing/vg86q/src/core/ad.jl:68 [inlined]",
      " [13] ∂logπ∂θ at /home/sumedhak/.julia/packages/Turing/vg86q/src/inference/hmc.jl:403 [inlined]",
      " [14] ∂H∂θ at /home/sumedhak/.julia/packages/AdvancedHMC/Sn9Ek/src/hamiltonian.jl:28 [inlined]",
      " [15] phasepoint(::AdvancedHMC.Hamiltonian{AdvancedHMC.Adaptation.UnitEuclideanMetric{Float64,Tuple{Int64}},Turing.Inference.var\"#logπ#48\"{DynamicPPL.VarInfo{NamedTuple{(:params,),Tuple{DynamicPPL.Metadata{Dict{DynamicPPL.VarName{:params},Int64},Array{Beta{Float64},1},Array{DynamicPPL.VarName{:params},1},Array{Float64,1},Array{Set{DynamicPPL.Selector},1}}}},Float64},DynamicPPL.Sampler{HMC{Turing.Core.ForwardDiffAD{40},(),AdvancedHMC.Adaptation.UnitEuclideanMetric},Turing.Inference.SamplerState{DynamicPPL.VarInfo{NamedTuple{(:params,),Tuple{DynamicPPL.Metadata{Dict{DynamicPPL.VarName{:params},Int64},Array{Beta{Float64},1},Array{DynamicPPL.VarName{:params},1},Array{Float64,1},Array{Set{DynamicPPL.Selector},1}}}},Float64}}},DynamicPPL.Model{var\"##inner_function#578#4\",NamedTuple{(:tps,),Tuple{Array{Float64,1}}},DynamicPPL.ModelGen{(:tps,),var\"###test#586\",NamedTuple{(),Tuple{}}},Val{()}}},Turing.Inference.var\"#∂logπ∂θ#47\"{DynamicPPL.VarInfo{NamedTuple{(:params,),Tuple{DynamicPPL.Metadata{Dict{DynamicPPL.VarName{:params},Int64},Array{Beta{Float64},1},Array{DynamicPPL.VarName{:params},1},Array{Float64,1},Array{Set{DynamicPPL.Selector},1}}}},Float64},DynamicPPL.Sampler{HMC{Turing.Core.ForwardDiffAD{40},(),AdvancedHMC.Adaptation.UnitEuclideanMetric},Turing.Inference.SamplerState{DynamicPPL.VarInfo{NamedTuple{(:params,),Tuple{DynamicPPL.Metadata{Dict{DynamicPPL.VarName{:params},Int64},Array{Beta{Float64},1},Array{DynamicPPL.VarName{:params},1},Array{Float64,1},Array{Set{DynamicPPL.Selector},1}}}},Float64}}},DynamicPPL.Model{var\"##inner_function#578#4\",NamedTuple{(:tps,),Tuple{Array{Float64,1}}},DynamicPPL.ModelGen{(:tps,),var\"###test#586\",NamedTuple{(),Tuple{}}},Val{()}}}}, ::Array{Float64,1}, ::Array{Float64,1}) at /home/sumedhak/.julia/packages/AdvancedHMC/Sn9Ek/src/hamiltonian.jl:59",
      " [16] phasepoint at /home/sumedhak/.julia/packages/AdvancedHMC/Sn9Ek/src/hamiltonian.jl:129 [inlined]",
      " [17] sample_init at /home/sumedhak/.julia/packages/AdvancedHMC/Sn9Ek/src/sampler.jl:13 [inlined]",
      " [18] #HMCState#51(::Base.Iterators.Pairs{Union{},Union{},Tuple{},NamedTuple{(),Tuple{}}}, ::Type{Turing.Inference.HMCState}, ::DynamicPPL.Model{var\"##inner_function#578#4\",NamedTuple{(:tps,),Tuple{Array{Float64,1}}},DynamicPPL.ModelGen{(:tps,),var\"###test#586\",NamedTuple{(),Tuple{}}},Val{()}}, ::DynamicPPL.Sampler{HMC{Turing.Core.ForwardDiffAD{40},(),AdvancedHMC.Adaptation.UnitEuclideanMetric},Turing.Inference.SamplerState{DynamicPPL.VarInfo{NamedTuple{(:params,),Tuple{DynamicPPL.Metadata{Dict{DynamicPPL.VarName{:params},Int64},Array{Beta{Float64},1},Array{DynamicPPL.VarName{:params},1},Array{Float64,1},Array{Set{DynamicPPL.Selector},1}}}},Float64}}}, ::Random._GLOBAL_RNG) at /home/sumedhak/.julia/packages/Turing/vg86q/src/inference/hmc.jl:564",
      " [19] Turing.Inference.HMCState(::DynamicPPL.Model{var\"##inner_function#578#4\",NamedTuple{(:tps,),Tuple{Array{Float64,1}}},DynamicPPL.ModelGen{(:tps,),var\"###test#586\",NamedTuple{(),Tuple{}}},Val{()}}, ::DynamicPPL.Sampler{HMC{Turing.Core.ForwardDiffAD{40},(),AdvancedHMC.Adaptation.UnitEuclideanMetric},Turing.Inference.SamplerState{DynamicPPL.VarInfo{NamedTuple{(:params,),Tuple{DynamicPPL.Metadata{Dict{DynamicPPL.VarName{:params},Int64},Array{Beta{Float64},1},Array{DynamicPPL.VarName{:params},1},Array{Float64,1},Array{Set{DynamicPPL.Selector},1}}}},Float64}}}, ::Random._GLOBAL_RNG) at /home/sumedhak/.julia/packages/Turing/vg86q/src/inference/hmc.jl:535",
      " [20] DynamicPPL.Sampler(::HMC{Turing.Core.ForwardDiffAD{40},(),AdvancedHMC.Adaptation.UnitEuclideanMetric}, ::DynamicPPL.Model{var\"##inner_function#578#4\",NamedTuple{(:tps,),Tuple{Array{Float64,1}}},DynamicPPL.ModelGen{(:tps,),var\"###test#586\",NamedTuple{(),Tuple{}}},Val{()}}, ::DynamicPPL.Selector) at /home/sumedhak/.julia/packages/Turing/vg86q/src/inference/hmc.jl:313",
      " [21] #sample#2(::Nothing, ::Base.Iterators.Pairs{Union{},Union{},Tuple{},NamedTuple{(),Tuple{}}}, ::typeof(sample), ::DynamicPPL.Model{var\"##inner_function#578#4\",NamedTuple{(:tps,),Tuple{Array{Float64,1}}},DynamicPPL.ModelGen{(:tps,),var\"###test#586\",NamedTuple{(),Tuple{}}},Val{()}}, ::HMC{Turing.Core.ForwardDiffAD{40},(),AdvancedHMC.Adaptation.UnitEuclideanMetric}, ::Int64) at /home/sumedhak/.julia/packages/Turing/vg86q/src/inference/hmc.jl:305",
      " [22] sample(::DynamicPPL.Model{var\"##inner_function#578#4\",NamedTuple{(:tps,),Tuple{Array{Float64,1}}},DynamicPPL.ModelGen{(:tps,),var\"###test#586\",NamedTuple{(),Tuple{}}},Val{()}}, ::HMC{Turing.Core.ForwardDiffAD{40},(),AdvancedHMC.Adaptation.UnitEuclideanMetric}, ::Int64) at /home/sumedhak/.julia/packages/Turing/vg86q/src/inference/Inference.jl:158",
      " [23] top-level scope at In[3]:1"
     ]
    }
   ],
   "source": [
    "samp = sample(test(tpoints), HMC(0.1, 5), 100)"
   ]
  },
  {
   "cell_type": "code",
   "execution_count": null,
   "metadata": {},
   "outputs": [],
   "source": []
  }
 ],
 "metadata": {
  "kernelspec": {
   "display_name": "Julia 1.3.0",
   "language": "julia",
   "name": "julia-1.3"
  },
  "language_info": {
   "file_extension": ".jl",
   "mimetype": "application/julia",
   "name": "julia",
   "version": "1.3.0"
  }
 },
 "nbformat": 4,
 "nbformat_minor": 4
}
