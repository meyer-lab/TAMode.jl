{
 "cells": [
  {
   "cell_type": "code",
   "execution_count": null,
   "metadata": {},
   "outputs": [],
   "source": [
    "using Pkg\n",
    "Pkg.instantiate()\n",
    "import TAMode\n",
    "using Turing"
   ]
  },
  {
   "cell_type": "code",
   "execution_count": null,
   "metadata": {},
   "outputs": [],
   "source": [
    "tpoints = 10.0 .^ range(-6.0, stop = 2.0, length = 10)\n",
    "\n",
    "@model test(tps, ::Type{TV}=Vector{Float64}) where {TV} = begin\n",
    "    paramsA ~ MvLogNormal(fill(-6.0, 2), 0.01)\n",
    "    paramsB ~ Truncated(LogNormal(-1.0, 0.01), 0.0, 1.0)\n",
    "    paramsC ~ MvLogNormal(fill(-6.0, 12), 0.01)\n",
    "    \n",
    "    params = vcat(paramsA, paramsB, paramsC)\n",
    "\n",
    "    data = TAMode.getAutocrine(params)\n",
    "    #data = TAMode.runTAM(tps, params, 10.0)\n",
    "end"
   ]
  },
  {
   "cell_type": "code",
   "execution_count": null,
   "metadata": {},
   "outputs": [],
   "source": [
    "samp = sample(test(tpoints), HMC(0.01, 5), 100)"
   ]
  }
 ],
 "metadata": {
  "kernelspec": {
   "display_name": "Julia 1.3.0",
   "language": "julia",
   "name": "julia-1.3"
  },
  "language_info": {
   "file_extension": ".jl",
   "mimetype": "application/julia",
   "name": "julia",
   "version": "1.3.0"
  }
 },
 "nbformat": 4,
 "nbformat_minor": 4
}
