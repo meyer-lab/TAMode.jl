{
 "cells": [
  {
   "cell_type": "code",
   "execution_count": 7,
   "metadata": {},
   "outputs": [],
   "source": [
    "using Pkg\n",
    "Pkg.instantiate()\n",
    "import TAMode\n",
    "using Turing"
   ]
  },
  {
   "cell_type": "code",
   "execution_count": 68,
   "metadata": {},
   "outputs": [
    {
     "data": {
      "text/plain": [
       "(::DynamicPPL.ModelGen{(:expData, :tps, :TV),var\"###test#1835\",NamedTuple{(:TV,),Tuple{Type{Array{Float64,1}}}}}) (generic function with 1 method)"
      ]
     },
     "execution_count": 68,
     "metadata": {},
     "output_type": "execute_result"
    }
   ],
   "source": [
    "tpoints = 10.0 .^ range(-6.0, stop = 2.0, length = 10)\n",
    "\n",
    "@model test(expData, tps, ::Type{TV}=Vector{Float64}) where {TV} = begin    \n",
    "    paramsA ~ MvLogNormal(fill(-6.0, 2), 0.01)\n",
    "    paramsB ~ Truncated(LogNormal(-1.0, 0.01), 0.0, 1.0)\n",
    "    paramsC ~ MvLogNormal(fill(-6.0, 12), 0.01)\n",
    "    \n",
    "    params = vcat(paramsA, paramsB, paramsC)\n",
    "\n",
    "    #data = TAMode.getAutocrine(params)\n",
    "    data = TAMode.runTAM(tps, params, 10.0)\n",
    "    pYAXL = TAMode.pY .* TAMode.recpSpecific[1]\n",
    "    tData = data * pYAXL\n",
    "    resids = expData .- tData #scale?\n",
    "    resids ~ MvNormal(zeros(length(resids)), ones(length(resids))*std(resids))\n",
    "end"
   ]
  },
  {
   "cell_type": "code",
   "execution_count": null,
   "metadata": {},
   "outputs": [],
   "source": [
    "kTps = [0, 0.5, 1, 5, 10];\n",
    "pyK = [4.1, 3.6, 5.3, 11.3, 11.6];\n",
    "samp = sample(test(pyK, kTps), HMC(0.01, 5), 10)"
   ]
  },
  {
   "cell_type": "code",
   "execution_count": null,
   "metadata": {},
   "outputs": [],
   "source": []
  }
 ],
 "metadata": {
  "kernelspec": {
   "display_name": "Julia 1.3.0",
   "language": "julia",
   "name": "julia-1.3"
  },
  "language_info": {
   "file_extension": ".jl",
   "mimetype": "application/julia",
   "name": "julia",
   "version": "1.3.0"
  }
 },
 "nbformat": 4,
 "nbformat_minor": 4
}
