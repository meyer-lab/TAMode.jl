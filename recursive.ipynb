{
 "metadata": {
  "language_info": {
   "codemirror_mode": {
    "name": "ipython",
    "version": 3
   },
   "file_extension": ".py",
   "mimetype": "text/x-python",
   "name": "python",
   "nbconvert_exporter": "python",
   "pygments_lexer": "ipython3",
   "version": "3.8.5-final"
  },
  "orig_nbformat": 2,
  "kernelspec": {
   "name": "julia-1.5",
   "display_name": "Julia 1.5.2"
  }
 },
 "nbformat": 4,
 "nbformat_minor": 2,
 "cells": [
  {
   "cell_type": "code",
   "execution_count": 3,
   "metadata": {},
   "outputs": [],
   "source": [
    "using Pkg\n",
    "using RecursiveArrayTools\n",
    "using LabelledArrays\n",
    "using StaticArrays"
   ]
  },
  {
   "source": [
    "larr = SLVector(expression = 2, xFwd6 = 5)\n",
    "narr = SLVector(A=1, B=2, C=3, D=4)\n",
    "arrPart = ArrayPartition(larr, narr)\n",
    "for x in arrPart\n",
    "    println(x)\n",
    "end\n",
    "println()\n",
    "for y in arrPart.x\n",
    "    println(y)\n",
    "end"
   ],
   "cell_type": "code",
   "metadata": {},
   "execution_count": 4,
   "outputs": [
    {
     "output_type": "stream",
     "name": "stdout",
     "text": [
      "2\n",
      "5\n",
      "1\n",
      "2\n",
      "3\n",
      "4\n",
      "\n",
      "2-element SLArray{Tuple{2},Int64,1,2,(:expression, :xFwd6)} with indices SOneTo(2):\n",
      " :expression => 2\n",
      "      :xFwd6 => 5\n",
      "4-element SLArray{Tuple{4},Int64,1,4,(:A, :B, :C, :D)} with indices SOneTo(4):\n",
      " :A => 1\n",
      " :B => 2\n",
      " :C => 3\n",
      " :D => 4\n"
     ]
    }
   ]
  },
  {
   "cell_type": "code",
   "execution_count": 9,
   "metadata": {},
   "outputs": [
    {
     "output_type": "execute_result",
     "data": {
      "text/plain": [
       "([1, 2, 3, 3], [1, 2, 3, 4, 5, 6], 2, 5)"
      ]
     },
     "metadata": {},
     "execution_count": 9
    }
   ],
   "source": [
    "binding=[1, 2, 3, 3] \n",
    "vRev = [1, 2, 3, 4, 5, 6]\n",
    "expression = 2\n",
    "xFwd6 = 5\n",
    "arrPart2  = ArrayPartition(binding, vRev, expression, xFwd6)"
   ]
  },
  {
   "cell_type": "code",
   "execution_count": 14,
   "metadata": {},
   "outputs": [
    {
     "output_type": "stream",
     "name": "stdout",
     "text": [
      "123312345625\n",
      "[1, 2, 3, 3]\n",
      "[1, 2, 3, 4, 5, 6]\n",
      "2\n",
      "5\n"
     ]
    }
   ],
   "source": [
    "for x in arrPart2\n",
    "    print(x)\n",
    "end\n",
    "println()\n",
    "for y=1:4\n",
    "    println(arrPart2.x[y])\n",
    "end\n",
    "# don't think I can access the labelled values so I'm not sure how to use labelled arrays"
   ]
  }
 ]
}