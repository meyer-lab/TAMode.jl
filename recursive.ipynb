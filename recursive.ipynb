{
 "metadata": {
  "language_info": {
   "codemirror_mode": {
    "name": "ipython",
    "version": 3
   },
   "file_extension": ".py",
   "mimetype": "text/x-python",
   "name": "python",
   "nbconvert_exporter": "python",
   "pygments_lexer": "ipython3",
   "version": "3.8.5-final"
  },
  "orig_nbformat": 2,
  "kernelspec": {
   "name": "julia-1.5",
   "display_name": "Julia 1.5.2"
  }
 },
 "nbformat": 4,
 "nbformat_minor": 2,
 "cells": [
  {
   "cell_type": "code",
   "execution_count": 3,
   "metadata": {},
   "outputs": [],
   "source": [
    "using Pkg\n",
    "using RecursiveArrayTools\n",
    "using LabelledArrays\n",
    "using StaticArrays"
   ]
  },
  {
   "source": [
    "larr = SLVector(expression = 2, xFwd6 = 5)\n",
    "narr = SLVector(A=1, B=2, C=3, D=4)\n",
    "arrPart = ArrayPartition(larr, narr)\n",
    "for x in arrPart\n",
    "    println(x)\n",
    "end\n",
    "println()\n",
    "for y in arrPart.x\n",
    "    println(y)\n",
    "end\n",
    "print(arrPart.x[1].expression)"
   ],
   "cell_type": "code",
   "metadata": {},
   "execution_count": 3,
   "outputs": [
    {
     "output_type": "stream",
     "name": "stdout",
     "text": [
      "2\n",
      "5\n",
      "1\n",
      "2\n",
      "3\n",
      "4\n",
      "\n",
      "2-element SLArray{Tuple{2},Int64,1,2,(:expression, :xFwd6)} with indices SOneTo(2):\n",
      " :expression => 2\n",
      "      :xFwd6 => 5\n",
      "4-element SLArray{Tuple{4},Int64,1,4,(:A, :B, :C, :D)} with indices SOneTo(4):\n",
      " :A => 1\n",
      " :B => 2\n",
      " :C => 3\n",
      " :D => 4\n",
      "2"
     ]
    }
   ]
  },
  {
   "cell_type": "code",
   "execution_count": 9,
   "metadata": {},
   "outputs": [
    {
     "output_type": "execute_result",
     "data": {
      "text/plain": [
       "([1, 2, 3, 3], [1, 2, 3, 4, 5, 6], 2, 5)"
      ]
     },
     "metadata": {},
     "execution_count": 9
    }
   ],
   "source": [
    "binding=[1, 2, 3, 3] \n",
    "vRev = [1, 2, 3, 4, 5, 6]\n",
    "expression = 2\n",
    "xFwd6 = 5\n",
    "arrPart2  = ArrayPartition(binding, vRev, expression, xFwd6)"
   ]
  },
  {
   "cell_type": "code",
   "execution_count": 20,
   "metadata": {},
   "outputs": [
    {
     "output_type": "stream",
     "name": "stdout",
     "text": [
      "ArrayPartition{Int64,Tuple{SLArray{Tuple{2},Int64,1,2,(:expression, :xFwd6)},SLArray{Tuple{4},Int64,1,4,(:A, :B, :C, :D)}}}"
     ]
    }
   ],
   "source": [
    "print(typeof(arrPart))"
   ]
  },
  {
   "cell_type": "code",
   "execution_count": 14,
   "metadata": {},
   "outputs": [
    {
     "output_type": "stream",
     "name": "stdout",
     "text": [
      "123312345625\n",
      "[1, 2, 3, 3]\n",
      "[1, 2, 3, 4, 5, 6]\n",
      "2\n",
      "5\n"
     ]
    }
   ],
   "source": [
    "for x in arrPart2\n",
    "    print(x)\n",
    "end\n",
    "println()\n",
    "for y=1:4\n",
    "    println(arrPart2.x[y])\n",
    "end\n",
    "# don't think I can access the labelled values so I'm not sure how to use labelled arrays"
   ]
  },
  {
   "cell_type": "code",
   "execution_count": 12,
   "metadata": {},
   "outputs": [
    {
     "output_type": "execute_result",
     "data": {
      "text/plain": [
       "ArrayPartition{T,Tuple{SLArray{Tuple{3},T,1,3,(:AM, :MT, :AT)},SLArray{Tuple{3},T,1,3,(:AM, :MT, :AT)}}} where T"
      ]
     },
     "metadata": {},
     "execution_count": 12
    }
   ],
   "source": [
    "bind{T} = LabelledArrays.@SLVector T (:AM, :MT, :AT)\n",
    "bPart{T} = ArrayPartition{T, Tuple{bind{T}, bind{T}}}"
   ]
  },
  {
   "cell_type": "code",
   "execution_count": 10,
   "metadata": {},
   "outputs": [
    {
     "output_type": "execute_result",
     "data": {
      "text/plain": [
       "ArrayPartition{T,Tuple{SLArray{Tuple{10},T,1,10,(:xRev1, :xRev2, :xRev3, :xRev4, :xRev5, :xRev6, :xRev7, :xRev8, :xRev9, :xRev10)},SLArray{Tuple{2},T,1,2,(:xFwd15, :xFwd16)}}} where T"
      ]
     },
     "metadata": {},
     "execution_count": 10
    }
   ],
   "source": [
    "#hetRates{T}\n",
    "xRev10{T} = LabelledArrays.@SLVector T (:xRev1, :xRev2, :xRev3, :xRev4, :xRev5, :xRev6, :xRev7, :xRev8, :xRev9, :xRev10)\n",
    "hetArr{T} = LabelledArrays.@SLVector T (:xFwd15, :xFwd16)\n",
    "\n",
    "hetRates{T} = ArrayPartition{T,\n",
    "    Tuple{\n",
    "        xRev10{T},\n",
    "        hetArr{T}\n",
    "    }\n",
    "}"
   ]
  },
  {
   "cell_type": "code",
   "execution_count": 11,
   "metadata": {},
   "outputs": [
    {
     "output_type": "execute_result",
     "data": {
      "text/plain": [
       "SLArray{Tuple{3},ArrayPartition{T,Tuple{SLArray{Tuple{10},T,1,10,(:xRev1, :xRev2, :xRev3, :xRev4, :xRev5, :xRev6, :xRev7, :xRev8, :xRev9, :xRev10)},SLArray{Tuple{2},T,1,2,(:xFwd15, :xFwd16)}}},1,3,(:AM, :MT, :AT)} where T"
      ]
     },
     "metadata": {},
     "execution_count": 11
    }
   ],
   "source": [
    "TAMsType{T} = LabelledArrays.@SLVector TAMrates{T} (:Axl, :MerTK, :Tyro3)\n",
    "hetRType{T} = LabelledArrays.@SLVector hetRates{T} (:AM, :MT, :AT)"
   ]
  },
  {
   "cell_type": "code",
   "execution_count": 14,
   "metadata": {},
   "outputs": [
    {
     "output_type": "execute_result",
     "data": {
      "text/plain": [
       "ArrayPartition{T,Tuple{SLArray{Tuple{3},ArrayPartition{T,Tuple{SLArray{Tuple{4},T,1,4,(:bind1, :bind2, :bind3, :bind4)},SLArray{Tuple{6},T,1,6,(:xRev1, :xRev2, :xRev3, :xRev4, :xRev5, :xRev6)},SLArray{Tuple{2},T,1,2,(:expression, :xFwd6)}}},1,3,(:Axl, :MerTK, :Tyro3)},SLArray{Tuple{7},T,1,7,(:internalize, :pYinternalize, :fElse, :kRec, :kDeg, :xFwd, :gasCur)},SLArray{Tuple{3},ArrayPartition{T,Tuple{SLArray{Tuple{10},T,1,10,(:xRev1, :xRev2, :xRev3, :xRev4, :xRev5, :xRev6, :xRev7, :xRev8, :xRev9, :xRev10)},SLArray{Tuple{2},T,1,2,(:xFwd15, :xFwd16)}}},1,3,(:AM, :MT, :AT)}}} where T"
      ]
     },
     "metadata": {},
     "execution_count": 14
    }
   ],
   "source": [
    "#Rates{T}\n",
    "RatesArr{T} = LabelledArrays.@SLVector T (:internalize, :pYinternalize, :fElse, :kRec, :kDeg, :xFwd, :gasCur)\n",
    "\n",
    "Rates{T} = ArrayPartition{T,\n",
    "    Tuple{\n",
    "        TAMsType{T},\n",
    "        RatesArr{T},\n",
    "        hetRType{T}\n",
    "    }\n",
    "}"
   ]
  },
  {
   "cell_type": "code",
   "execution_count": 11,
   "metadata": {},
   "outputs": [
    {
     "output_type": "stream",
     "name": "stdout",
     "text": [
      "4-element SLArray{Tuple{4},Int64,1,4,(:bind1, :bind2, :bind3, :bind4)} with indices SOneTo(4):\n :bind1 => 0\n :bind2 => 1\n :bind3 => 2\n :bind4 => 3\n6-element SLArray{Tuple{6},Int64,1,6,(:xRev1, :xRev2, :xRev3, :xRev4, :xRev5, :xRev6)} with indices SOneTo(6):\n :xRev1 => 4\n :xRev2 => 5\n :xRev3 => 6\n :xRev4 => 7\n :xRev5 => 8\n :xRev6 => 9\n2-element SLArray{Tuple{2},Int64,1,2,(:expression, :xFwd6)} with indices SOneTo(2):\n :expression => 20\n      :xFwd6 => 30\nPrinting binding values...\n0123\nPrinting xRev elements\n456789\nPrinting expression and xFwd6...\n2030\n"
     ]
    }
   ],
   "source": [
    "###################### Version 1 #####################\n",
    "#TAMrates1{T}\n",
    "binding{T} = LabelledArrays.@SLVector T (:bind1, :bind2, :bind3, :bind4)\n",
    "xRev6{T} = LabelledArrays.@SLVector T (:xRev1, :xRev2, :xRev3, :xRev4, :xRev5, :xRev6)\n",
    "TAMarr{T} = LabelledArrays.@SLVector T (:expression, :xFwd6)\n",
    "\n",
    "TAMrates1{T} = ArrayPartition{T, \n",
    "    Tuple{\n",
    "        binding{T}, \n",
    "        xRev6{T}, \n",
    "        TAMarr{T}\n",
    "    }\n",
    "}\n",
    "\n",
    "### Construction\n",
    "\n",
    "test = TAMrates1{Int64}((binding{Int64}(0,1,2,3), xRev6{Int64}(4,5,6,7,8,9), TAMarr{Int64}(20, 30)))\n",
    "\n",
    "### Accessing\n",
    "\n",
    "## In general to access each subarray in the array partition, use array_partition_name.x\n",
    "## x is suscriptable so for TAMrates, x[1] is the binding vector, x[2] is the xRev vector, x[3] is the labelled array with expression and xFwd6\n",
    "\n",
    "for x in test.x\n",
    "    println(x)\n",
    "end\n",
    "\n",
    "##access by label elements\n",
    "println(\"Printing binding values...\")\n",
    "println(test.x[1].bind1, test.x[1].bind2, test.x[1].bind3, test.x[1].bind4)\n",
    "println(\"Printing xRev elements\")\n",
    "println(test.x[2].xRev1, test.x[2].xRev2, test.x[2].xRev3, test.x[2].xRev4, test.x[2].xRev5, test.x[2].xRev6)\n",
    "println(\"Printing expression and xFwd6...\")\n",
    "println(test.x[3].expression, test.x[3].xFwd6)\n",
    "\n",
    "\n"
   ]
  },
  {
   "cell_type": "code",
   "execution_count": 13,
   "metadata": {},
   "outputs": [
    {
     "output_type": "error",
     "ename": "LoadError",
     "evalue": "type Tuple has no field binding",
     "traceback": [
      "type Tuple has no field binding",
      "",
      "Stacktrace:",
      " [1] getproperty(::Tuple{SLArray{Tuple{4},Int64,1,4,(:bind1, :bind2, :bind3, :bind4)},SLArray{Tuple{6},Int64,1,6,(:xRev1, :xRev2, :xRev3, :xRev4, :xRev5, :xRev6)},SLArray{Tuple{2},Int64,1,2,(:expression, :xFwd6)}}, ::Symbol) at ./Base.jl:33",
      " [2] top-level scope at In[13]:2",
      " [3] include_string(::Function, ::Module, ::String, ::String) at ./loading.jl:1091",
      " [4] execute_code(::String, ::String) at /home/sumedhak/.julia/packages/IJulia/rWZ9e/src/execute_request.jl:27",
      " [5] execute_request(::ZMQ.Socket, ::IJulia.Msg) at /home/sumedhak/.julia/packages/IJulia/rWZ9e/src/execute_request.jl:86",
      " [6] #invokelatest#1 at ./essentials.jl:710 [inlined]",
      " [7] invokelatest at ./essentials.jl:709 [inlined]",
      " [8] eventloop(::ZMQ.Socket) at /home/sumedhak/.julia/packages/IJulia/rWZ9e/src/eventloop.jl:8",
      " [9] (::IJulia.var\"#15#18\")() at ./task.jl:356"
     ]
    }
   ],
   "source": [
    "#we can't access the binding or xRev vector by name with this structure because x isn't a labelled tuple\n",
    "\n",
    "println(test.x.binding) \n",
    "println(test.x[binding])"
   ]
  },
  {
   "cell_type": "code",
   "execution_count": 17,
   "metadata": {},
   "outputs": [
    {
     "output_type": "stream",
     "name": "stdout",
     "text": [
      "Accessing by label...\n[1, 2, 3, 4] 2 5\nPrinting directly from arrayPart...\n[1, 2, 3, 4]\n2\n5\n"
     ]
    }
   ],
   "source": [
    "## Ideally, we want to be able to do something like test.x[1].binding the same way we do from expression and xFwd6 which are single values\n",
    "\n",
    "#This allows for such access\n",
    "arr = SLVector(binding = [1,2,3,4], expression = 2, xFwd6 = 5)\n",
    "arrayPart = ArrayPartition(arr)\n",
    "\n",
    "#Accessing\n",
    "println(\"Accessing by label...\")\n",
    "println(arrayPart.x[1].binding, \" \", arrayPart.x[1].expression, \" \", arrayPart.x[1].xFwd6)\n",
    "\n",
    "\n",
    "# the problem is that the binding vector elements aren't treated separately in the array partition which is what I think we want for improving efficiency\n",
    "println(\"Printing directly from arrayPart...\")\n",
    "for x in arrayPart\n",
    "    println(x)\n",
    "end"
   ]
  },
  {
   "cell_type": "code",
   "execution_count": null,
   "metadata": {},
   "outputs": [],
   "source": []
  }
 ]
}