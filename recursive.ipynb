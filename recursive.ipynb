{
 "metadata": {
  "language_info": {
   "codemirror_mode": {
    "name": "ipython",
    "version": 3
   },
   "file_extension": ".py",
   "mimetype": "text/x-python",
   "name": "python",
   "nbconvert_exporter": "python",
   "pygments_lexer": "ipython3",
   "version": "3.8.5-final"
  },
  "orig_nbformat": 2,
  "kernelspec": {
   "name": "julia-1.5",
   "display_name": "Julia 1.5.2"
  }
 },
 "nbformat": 4,
 "nbformat_minor": 2,
 "cells": [
  {
   "cell_type": "code",
   "execution_count": 20,
   "metadata": {},
   "outputs": [
    {
     "output_type": "stream",
     "name": "stderr",
     "text": [
      "\u001b[32m\u001b[1m  Resolving\u001b[22m\u001b[39m package versions...\n",
      "\u001b[32m\u001b[1mNo Changes\u001b[22m\u001b[39m to `~/.julia/environments/v1.5/Project.toml`\n",
      "\u001b[32m\u001b[1mNo Changes\u001b[22m\u001b[39m to `~/.julia/environments/v1.5/Manifest.toml`\n",
      "\u001b[32m\u001b[1m  Resolving\u001b[22m\u001b[39m package versions...\n",
      "\u001b[32m\u001b[1mNo Changes\u001b[22m\u001b[39m to `~/.julia/environments/v1.5/Project.toml`\n",
      "\u001b[32m\u001b[1mNo Changes\u001b[22m\u001b[39m to `~/.julia/environments/v1.5/Manifest.toml`\n",
      "\u001b[32m\u001b[1m  Resolving\u001b[22m\u001b[39m package versions...\n",
      "\u001b[32m\u001b[1mUpdating\u001b[22m\u001b[39m `~/.julia/environments/v1.5/Project.toml`\n",
      " \u001b[90m [90137ffa] \u001b[39m\u001b[92m+ StaticArrays v0.12.4\u001b[39m\n",
      "\u001b[32m\u001b[1mNo Changes\u001b[22m\u001b[39m to `~/.julia/environments/v1.5/Manifest.toml`\n"
     ]
    }
   ],
   "source": [
    "using Pkg\n",
    "Pkg.instantiate()\n",
    "Pkg.add(\"RecursiveArrayTools\")\n",
    "Pkg.add(\"LabelledArrays\")\n",
    "Pkg.add(\"StaticArrays\")\n",
    "using RecursiveArrayTools\n",
    "using LabelledArrays\n",
    "using StaticArrays\n"
   ]
  },
  {
   "source": [
    "larr = SLVector(binding=[1, 2, 3, 3], vRev = [1, 2, 3, 4, 5, 6], expression = 2, xFwd6 = 5)\n",
    "arrPart = ArrayPartition(larr)\n",
    "for x in arrPart\n",
    "    println(x)\n",
    "end\n",
    "println()\n",
    "for y in arrPart.x\n",
    "    println(y)\n",
    "end"
   ],
   "cell_type": "code",
   "metadata": {},
   "execution_count": 17,
   "outputs": [
    {
     "output_type": "stream",
     "name": "stdout",
     "text": [
      "[1, 2, 3, 3]\n[1, 2, 3, 4, 5, 6]\n2\n5\n\n4-element SLArray{Tuple{4},Any,1,4,(:binding, :vRev, :expression, :xFwd6)} with indices SOneTo(4):\n    :binding => [1, 2, 3, 3]\n       :vRev => [1, 2, 3, 4, 5, 6]\n :expression => 2\n      :xFwd6 => 5\n"
     ]
    }
   ]
  },
  {
   "cell_type": "code",
   "execution_count": 9,
   "metadata": {},
   "outputs": [
    {
     "output_type": "execute_result",
     "data": {
      "text/plain": [
       "([1, 2, 3, 3], [1, 2, 3, 4, 5, 6], 2, 5)"
      ]
     },
     "metadata": {},
     "execution_count": 9
    }
   ],
   "source": [
    "binding=[1, 2, 3, 3] \n",
    "vRev = [1, 2, 3, 4, 5, 6]\n",
    "expression = 2\n",
    "xFwd6 = 5\n",
    "arrPart2  = ArrayPartition(binding, vRev, expression, xFwd6)"
   ]
  },
  {
   "cell_type": "code",
   "execution_count": 14,
   "metadata": {},
   "outputs": [
    {
     "output_type": "stream",
     "name": "stdout",
     "text": [
      "123312345625\n",
      "[1, 2, 3, 3]\n",
      "[1, 2, 3, 4, 5, 6]\n",
      "2\n",
      "5\n"
     ]
    }
   ],
   "source": [
    "for x in arrPart2\n",
    "    print(x)\n",
    "end\n",
    "println()\n",
    "for y=1:4\n",
    "    println(arrPart2.x[y])\n",
    "end\n",
    "# don't think I can access the labelled values so I'm not sure how to use labelled arrays"
   ]
  },
  {
   "cell_type": "code",
   "execution_count": 22,
   "metadata": {},
   "outputs": [
    {
     "output_type": "error",
     "ename": "LoadError",
     "evalue": "TypeError: in Type, in parameter, expected Type, got a value of type Tuple{DataType,DataType}",
     "traceback": [
      "TypeError: in Type, in parameter, expected Type, got a value of type Tuple{DataType,DataType}",
      "",
      "Stacktrace:",
      " [1] top-level scope at In[22]:1",
      " [2] include_string(::Function, ::Module, ::String, ::String) at ./loading.jl:1091",
      " [3] execute_code(::String, ::String) at /home/sumedhak/.julia/packages/IJulia/rWZ9e/src/execute_request.jl:27",
      " [4] execute_request(::ZMQ.Socket, ::IJulia.Msg) at /home/sumedhak/.julia/packages/IJulia/rWZ9e/src/execute_request.jl:86",
      " [5] #invokelatest#1 at ./essentials.jl:710 [inlined]",
      " [6] invokelatest at ./essentials.jl:709 [inlined]",
      " [7] eventloop(::ZMQ.Socket) at /home/sumedhak/.julia/packages/IJulia/rWZ9e/src/eventloop.jl:8",
      " [8] (::IJulia.var\"#15#18\")() at ./task.jl:356"
     ]
    }
   ],
   "source": [
    "arrayPart{T} = ArrayPartition{T, (MVector{4, T}, MVector{6, T})}\n"
   ]
  },
  {
   "cell_type": "code",
   "execution_count": null,
   "metadata": {},
   "outputs": [],
   "source": []
  }
 ]
}